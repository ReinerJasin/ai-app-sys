{
  "nbformat": 4,
  "nbformat_minor": 0,
  "metadata": {
    "colab": {
      "provenance": [],
      "authorship_tag": "ABX9TyMsllDDSBHcuGUvFWTecZO8",
      "include_colab_link": true
    },
    "kernelspec": {
      "name": "python3",
      "display_name": "Python 3"
    },
    "language_info": {
      "name": "python"
    },
    "accelerator": "GPU",
    "gpuClass": "standard"
  },
  "cells": [
    {
      "cell_type": "markdown",
      "metadata": {
        "id": "view-in-github",
        "colab_type": "text"
      },
      "source": [
        "<a href=\"https://colab.research.google.com/github/ReinerJasin/ai-app-sys/blob/main/Week10_12224827.ipynb\" target=\"_parent\"><img src=\"https://colab.research.google.com/assets/colab-badge.svg\" alt=\"Open In Colab\"/></a>"
      ]
    },
    {
      "cell_type": "markdown",
      "source": [
        "In this Week 10 lab session, we are going to make a sample prediction of an image an show an output of the prediction. The output is gonna be shown as probablity."
      ],
      "metadata": {
        "id": "MoFKabyH8ZNb"
      }
    },
    {
      "cell_type": "markdown",
      "source": [
        "First import the libraries we're gonna need."
      ],
      "metadata": {
        "id": "_F_WcEIiBbQT"
      }
    },
    {
      "cell_type": "code",
      "execution_count": 1,
      "metadata": {
        "id": "Gzc8QGje7NM2"
      },
      "outputs": [],
      "source": [
        "import torch\n",
        "import torchvision\n",
        "from torchvision import transforms\n",
        "from PIL import Image\n",
        "\n",
        "device = torch.device(\"cuda:0\" if torch.cuda.is_available() else \"cpu\")"
      ]
    },
    {
      "cell_type": "markdown",
      "source": [
        "Before doing the next step, download any image of a dog you can find on the internet and upload it to google colab directory by pressing the following icon on your files"
      ],
      "metadata": {
        "id": "YyxMbq61_pf_"
      }
    },
    {
      "cell_type": "markdown",
      "source": [
        "![image.png](data:image/png;base64,iVBORw0KGgoAAAANSUhEUgAAACkAAAAzCAYAAAAKLSELAAAAAXNSR0IArs4c6QAAAARnQU1BAACxjwv8YQUAAAAJcEhZcwAAFiUAABYlAUlSJPAAAAGoSURBVGhD7ZixbsIwEIav3TIzwxrmrPAOzKww8gCszDDCCmvmvAO8Q1gzZ4aR9rfOFbTUSc7XAKo/ycqdbZlPZ2Is3i6f0JPzzs+nJkhqESS1CJJaBEktXkKy8mcxyzI6HA5UliX31GMwGNB0OuXMD6ckBNGkaIk6t3u/33MkAzuw3W45k+Os5GQy4Yhot9tx5OZe9X0r2sqL41vR1t5uH9FWjyCpaOvnpES0dUnQVPQhkgCidVE/gvI8p+PxyNlPro+numuqS1YhWfNh290ENcnT6URFUXCmi4okBJfLpWl/IeotaQUhZ+Om17oqvCSvBS3o22w25qmFWPKeoAV9GNMSFUm6BC2aoiLJ9Xp9I9jtdjm6jTEHc30RSY7HY4qiyLTFYkFJkvAImdhecDGOub6IJHu9Hs3nc9MQf8fexH8bb4r4xcGHuwQgqiEIxJJt8n8k4zim0WhkGmJtVCT7/f6XJGJtnPfJ2WxG5/OZM106nQ6tVivO3DgrORwOOdKnydrOSoI0Tc3fLVoVRQUhiK9GXSoln4FwTmoRJLUIkloESS1eQJLoA7Hk4iGBL0/TAAAAAElFTkSuQmCC)"
      ],
      "metadata": {
        "id": "oPqAg6qzBjBB"
      }
    },
    {
      "cell_type": "markdown",
      "source": [
        "After choosing your file, the result will be like this"
      ],
      "metadata": {
        "id": "WEwsidbVBwaY"
      }
    },
    {
      "cell_type": "markdown",
      "source": [
        "![image.png](data:image/png;base64,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)"
      ],
      "metadata": {
        "id": "XHLlIHe-B2My"
      }
    },
    {
      "cell_type": "markdown",
      "source": [
        "Next we can open the image and modify it so it can fit the required parameter of the model"
      ],
      "metadata": {
        "id": "7JQ71Ok6B3ip"
      }
    },
    {
      "cell_type": "code",
      "source": [
        "# Load and preprocess image\n",
        "image = Image.open('/content/dog.jpg')\n",
        "preprocess = transforms.Compose([\n",
        "    transforms.Resize((224, 224)),\n",
        "    transforms.ToTensor(),\n",
        "    transforms.Normalize(mean=[0.485, 0.456, 0.406], std=[0.229, 0.224, 0.225])\n",
        "]) # Parameters are documented at pytorch.org.\n",
        "\n",
        "input_tensor = preprocess(image)\n",
        "\n",
        "# Convert to 4-dimensional tensor.\n",
        "inputs = input_tensor.unsqueeze(0)"
      ],
      "metadata": {
        "id": "qdeJi4yw7x4Y"
      },
      "execution_count": 2,
      "outputs": []
    },
    {
      "cell_type": "markdown",
      "source": [
        "Now we are going to load the resnet50 model and make the prediction. The Resnet50 model is finished when we load it so we don't have to train it further."
      ],
      "metadata": {
        "id": "Y_HkAKOv8cTp"
      }
    },
    {
      "cell_type": "code",
      "source": [
        "# Load the pre-trained model.\n",
        "model = torchvision.models.resnet50(weights = torchvision.models.ResNet50_Weights.IMAGENET1K_V1)\n",
        "model.eval()\n",
        "\n",
        "# Transfer model to GPU\n",
        "model.to(device)\n",
        "\n",
        "# Do prediction\n",
        "inputs = inputs.to(device)\n",
        "with torch.no_grad():\n",
        "  outputs = model(inputs)\n",
        "\n",
        "# Convert to probabilities, since final SoftMax activation is not in pretrained model.\n",
        "probabilities = torch.nn.functional.softmax(outputs[0], dim = 0)\n",
        "\n",
        "# Print class ID for top 5 predictions.\n",
        "_, indices = torch.sort(probabilities, descending = True)\n",
        "  \n",
        "for i in range(0,5):\n",
        "  print ('ImageNet class:', indices[i].item(), '. probability = %4.3f' % probabilities[indices[i]].item())\n",
        "\n",
        "# Show image\n",
        "image.show()"
      ],
      "metadata": {
        "colab": {
          "base_uri": "https://localhost:8080/"
        },
        "id": "LiGmn5Hb8m0m",
        "outputId": "6199cdea-3707-46f4-b6b9-2c59e67a2a01"
      },
      "execution_count": 3,
      "outputs": [
        {
          "output_type": "stream",
          "name": "stdout",
          "text": [
            "ImageNet class: 154 . probability = 0.321\n",
            "ImageNet class: 207 . probability = 0.266\n",
            "ImageNet class: 265 . probability = 0.046\n",
            "ImageNet class: 194 . probability = 0.039\n",
            "ImageNet class: 200 . probability = 0.036\n"
          ]
        }
      ]
    },
    {
      "cell_type": "markdown",
      "source": [
        "From the result above, we can see that the dog image uploaded earlier most likely belong to the class '154' with the probability of 0.321 (32.1%)"
      ],
      "metadata": {
        "id": "WcBVSEyzAALR"
      }
    },
    {
      "cell_type": "code",
      "source": [
        "from tensorflow import keras\n",
        "from tensorflow.keras import layers\n",
        "\n",
        "model = keras.Sequential([\n",
        "    layers.Dense(64, activation=\"relu\"),\n",
        "    layers.Dense(10, activation=\"softmax\")\n",
        "])"
      ],
      "metadata": {
        "id": "VyjfsqAxIMj-"
      },
      "execution_count": 4,
      "outputs": []
    },
    {
      "cell_type": "code",
      "source": [
        "model = keras.Sequential()\n",
        "model.add(layers.Dense(64, activation=\"relu\"))\n",
        "model.add(layers.Dense(10, activation=\"softmax\"))"
      ],
      "metadata": {
        "id": "Sb5nlNvVIVvQ"
      },
      "execution_count": 5,
      "outputs": []
    },
    {
      "cell_type": "code",
      "source": [
        "model.build(input_shape=(None, 3))\n",
        "model.weights"
      ],
      "metadata": {
        "colab": {
          "base_uri": "https://localhost:8080/"
        },
        "id": "3Imn6RHtIoCk",
        "outputId": "f4ceb82d-b93f-40a1-ab48-eae8faf9d6be"
      },
      "execution_count": 6,
      "outputs": [
        {
          "output_type": "execute_result",
          "data": {
            "text/plain": [
              "[<tf.Variable 'dense_2/kernel:0' shape=(3, 64) dtype=float32, numpy=\n",
              " array([[ 0.05449587,  0.2842059 , -0.22581589, -0.11952884, -0.04213381,\n",
              "          0.29839098,  0.10094464, -0.23426422, -0.07427353,  0.16819349,\n",
              "          0.16839662, -0.11957245,  0.14934793, -0.29390046, -0.29038095,\n",
              "         -0.2390116 ,  0.08398399, -0.06243207, -0.03192163,  0.16304007,\n",
              "         -0.2642227 ,  0.10946664,  0.02224755,  0.24604875, -0.1864247 ,\n",
              "          0.270774  , -0.12686464,  0.13545486,  0.08784539,  0.1962755 ,\n",
              "         -0.02554744,  0.02937558, -0.1763319 , -0.03463483,  0.01731351,\n",
              "          0.17363724,  0.28992832,  0.1006287 , -0.18136288,  0.01554874,\n",
              "          0.01760256, -0.15955126,  0.22340465, -0.15567845, -0.20103273,\n",
              "          0.07133764,  0.29163545,  0.20161515,  0.05924127, -0.15105492,\n",
              "         -0.2726022 , -0.2724807 ,  0.13157815, -0.19324736,  0.12840083,\n",
              "          0.13600582,  0.29912066, -0.07911959,  0.10586545, -0.18452421,\n",
              "          0.15869322,  0.23450047,  0.23336923, -0.02769485],\n",
              "        [ 0.01924825,  0.1958467 , -0.08202757,  0.27855468,  0.12233835,\n",
              "          0.02953133,  0.2982608 , -0.1295416 , -0.12968323, -0.2823312 ,\n",
              "         -0.1073913 , -0.2903256 ,  0.05037677,  0.02314574, -0.05013384,\n",
              "         -0.05605789, -0.04414594,  0.00713345, -0.14456522,  0.27408862,\n",
              "          0.06407878, -0.2752479 , -0.05886526, -0.1977182 , -0.1014975 ,\n",
              "          0.08310577,  0.130393  , -0.09919582, -0.24297367, -0.00336197,\n",
              "          0.07034343,  0.14745101,  0.08893913,  0.06184602, -0.17384928,\n",
              "         -0.15294634,  0.10620892, -0.14941679, -0.11751613, -0.19337794,\n",
              "          0.26462096,  0.29789156,  0.29098094, -0.29461566, -0.23937683,\n",
              "          0.12353715, -0.24749766,  0.28984952, -0.11762744, -0.00915945,\n",
              "         -0.11505251, -0.2983905 ,  0.22973323, -0.2345168 , -0.19107783,\n",
              "          0.04516107,  0.01516938,  0.19291097,  0.27345407, -0.22334456,\n",
              "         -0.07957079,  0.2574216 , -0.05450644, -0.22805257],\n",
              "        [-0.02566782, -0.06130499,  0.03533354,  0.10016695,  0.2862615 ,\n",
              "         -0.1267567 ,  0.29575586,  0.262226  ,  0.28318596, -0.29913524,\n",
              "         -0.13429776,  0.2336576 , -0.07031375,  0.1574533 , -0.09513074,\n",
              "          0.05158141,  0.18883887, -0.10906674, -0.2198469 , -0.18910815,\n",
              "          0.10941929, -0.05162387, -0.12321979,  0.1487442 ,  0.23315942,\n",
              "          0.2390722 ,  0.03943878, -0.02444029, -0.09042808, -0.2278406 ,\n",
              "          0.15693715, -0.15545942, -0.22012316, -0.09817755, -0.11237876,\n",
              "         -0.07851692, -0.2819654 ,  0.24772555, -0.28155828,  0.0521442 ,\n",
              "         -0.09190041,  0.12290186, -0.09527622,  0.20426834, -0.10108247,\n",
              "         -0.09299645, -0.06330657,  0.27298808,  0.16876435, -0.18116719,\n",
              "         -0.16795221,  0.10453418,  0.13321164,  0.27664977, -0.08077136,\n",
              "          0.1030331 , -0.19770038,  0.0427787 , -0.03554094,  0.15369013,\n",
              "          0.19613624, -0.26351932,  0.21337563,  0.11192772]],\n",
              "       dtype=float32)>,\n",
              " <tf.Variable 'dense_2/bias:0' shape=(64,) dtype=float32, numpy=\n",
              " array([0., 0., 0., 0., 0., 0., 0., 0., 0., 0., 0., 0., 0., 0., 0., 0., 0.,\n",
              "        0., 0., 0., 0., 0., 0., 0., 0., 0., 0., 0., 0., 0., 0., 0., 0., 0.,\n",
              "        0., 0., 0., 0., 0., 0., 0., 0., 0., 0., 0., 0., 0., 0., 0., 0., 0.,\n",
              "        0., 0., 0., 0., 0., 0., 0., 0., 0., 0., 0., 0., 0.], dtype=float32)>,\n",
              " <tf.Variable 'dense_3/kernel:0' shape=(64, 10) dtype=float32, numpy=\n",
              " array([[-2.65800297e-01,  1.30717218e-01,  1.08668000e-01,\n",
              "         -1.96629971e-01,  9.44399536e-02, -2.15930209e-01,\n",
              "          1.19558901e-01, -1.14658475e-03, -2.70523816e-01,\n",
              "          1.19855642e-01],\n",
              "        [ 4.24497426e-02,  8.92074704e-02, -2.58784294e-02,\n",
              "          8.66047144e-02, -1.34023413e-01,  1.42546594e-02,\n",
              "         -2.04878151e-01,  2.19068140e-01, -1.10058844e-01,\n",
              "         -6.42980784e-02],\n",
              "        [ 9.30000842e-02,  2.39964724e-02,  2.07609385e-01,\n",
              "         -1.70824513e-01,  2.19146281e-01,  2.41479784e-01,\n",
              "         -2.58624226e-01,  2.49583215e-01,  2.57794052e-01,\n",
              "         -2.03421518e-01],\n",
              "        [ 2.29810447e-01,  1.78160667e-01,  1.81794971e-01,\n",
              "          4.64803874e-02, -9.92187262e-02, -9.87149179e-02,\n",
              "         -8.40664208e-02,  2.42626041e-01,  1.67121381e-01,\n",
              "         -9.01627541e-03],\n",
              "        [-7.00419694e-02,  1.08253062e-01, -2.20665872e-01,\n",
              "          2.04345495e-01, -8.22538137e-03,  1.99692637e-01,\n",
              "         -2.57961482e-01,  6.42170310e-02, -2.54419714e-01,\n",
              "          2.45197743e-01],\n",
              "        [ 1.40920520e-01,  6.16827607e-03,  1.78235203e-01,\n",
              "         -1.34750500e-01, -1.67712882e-01,  2.70805568e-01,\n",
              "         -1.40822291e-01, -7.21801370e-02,  2.06292957e-01,\n",
              "          1.95678771e-01],\n",
              "        [ 7.10027218e-02, -2.70015925e-01, -1.76672608e-01,\n",
              "          2.07980543e-01, -1.47312418e-01, -1.53451160e-01,\n",
              "         -3.67871821e-02,  1.91693127e-01, -1.23674467e-01,\n",
              "          4.79499698e-02],\n",
              "        [-1.28283530e-01,  2.74310440e-01,  2.01776296e-01,\n",
              "          1.66895777e-01, -1.44719467e-01,  2.41105467e-01,\n",
              "         -2.34289318e-01, -1.91377386e-01,  1.03607148e-01,\n",
              "         -1.14384189e-01],\n",
              "        [-6.23506159e-02, -1.60496414e-01,  8.28540623e-02,\n",
              "          2.08498478e-01, -1.49358809e-02, -1.26600862e-02,\n",
              "         -1.46796733e-01,  1.27942711e-01, -1.90807253e-01,\n",
              "         -1.48101568e-01],\n",
              "        [ 2.30645686e-01, -1.47765875e-03,  1.82467133e-01,\n",
              "          1.81413710e-01,  2.05725819e-01,  2.83617526e-01,\n",
              "         -1.98542058e-01, -2.55925417e-01,  1.93767548e-01,\n",
              "         -8.72924924e-03],\n",
              "        [-2.69479215e-01, -4.32771742e-02,  1.29260242e-01,\n",
              "          7.63658881e-02,  9.51901674e-02,  1.67693794e-01,\n",
              "          1.30430788e-01,  1.81099474e-02, -2.08279580e-01,\n",
              "         -2.74336934e-01],\n",
              "        [-2.00388297e-01, -1.37240678e-01,  1.15887523e-01,\n",
              "          2.71601826e-01, -2.73215741e-01, -2.06539601e-01,\n",
              "         -1.78586006e-01, -1.08348638e-01,  2.70705968e-01,\n",
              "          2.63973176e-02],\n",
              "        [-2.74338037e-01,  5.89860976e-02,  9.40956771e-02,\n",
              "         -1.57229856e-01, -2.53987819e-01, -7.75282234e-02,\n",
              "          7.61545599e-02,  3.75148952e-02, -1.32665962e-01,\n",
              "         -4.27559018e-03],\n",
              "        [-6.54352158e-02, -1.30730182e-01, -1.92182139e-01,\n",
              "         -1.71034694e-01,  1.28720790e-01,  1.52553529e-01,\n",
              "         -2.52972662e-01,  3.75334322e-02, -2.76891053e-01,\n",
              "         -9.23962146e-02],\n",
              "        [ 2.46722907e-01, -6.47967905e-02,  1.50532812e-01,\n",
              "          2.27823555e-02, -1.59610182e-01,  1.56898975e-01,\n",
              "          9.91177559e-02, -2.75906414e-01, -1.34519547e-01,\n",
              "         -1.29460514e-01],\n",
              "        [-9.94552523e-02, -2.61521667e-01, -1.36867553e-01,\n",
              "         -2.14025319e-01,  2.36637861e-01, -1.82538629e-02,\n",
              "         -1.41224131e-01, -5.16920984e-02,  5.11913300e-02,\n",
              "         -3.96741033e-02],\n",
              "        [-1.53898075e-01,  1.02696270e-01, -6.96876496e-02,\n",
              "         -1.37561589e-01, -1.17235124e-01,  2.13771075e-01,\n",
              "          1.30402744e-01,  2.74916083e-01, -1.57601759e-01,\n",
              "          1.28176808e-01],\n",
              "        [ 2.50204712e-01,  1.85723841e-01, -2.68546671e-01,\n",
              "         -1.45691976e-01,  7.61411190e-02, -2.18485892e-02,\n",
              "          1.93954408e-02, -2.07598254e-01, -1.48571625e-01,\n",
              "          9.92985666e-02],\n",
              "        [ 1.42497599e-01, -9.99701023e-03, -5.93438745e-03,\n",
              "         -3.85964364e-02, -8.49425346e-02, -8.93444568e-02,\n",
              "          1.95352823e-01,  8.16571712e-02,  8.76679420e-02,\n",
              "         -2.67982930e-01],\n",
              "        [-2.82367051e-01, -1.60277188e-02,  1.86050057e-01,\n",
              "         -1.32643774e-01,  1.02897286e-02, -1.27771303e-01,\n",
              "          1.97864264e-01,  4.98167276e-02, -2.44578928e-01,\n",
              "         -1.05801716e-01],\n",
              "        [ 3.97967100e-02,  3.97940576e-02, -1.54051900e-01,\n",
              "          8.56379867e-02, -2.82454699e-01, -2.33480215e-01,\n",
              "         -8.93896818e-03,  1.49857312e-01, -2.80912817e-01,\n",
              "         -5.02860546e-03],\n",
              "        [-3.18014026e-02,  1.21876597e-02, -2.56574780e-01,\n",
              "         -2.38975704e-01,  2.26791829e-01,  1.69067681e-01,\n",
              "         -1.01610243e-01, -1.07977971e-01,  1.39905185e-01,\n",
              "         -1.04827106e-01],\n",
              "        [-2.19968587e-01,  2.06274629e-01, -1.69378474e-01,\n",
              "          6.24144077e-03,  2.61601806e-02, -2.43740901e-01,\n",
              "         -2.70298094e-01,  4.81829643e-02, -1.40164495e-02,\n",
              "          1.04495138e-01],\n",
              "        [-1.41756922e-01,  1.41839743e-01, -8.10176581e-02,\n",
              "          1.91976041e-01, -2.29361385e-01,  1.55677855e-01,\n",
              "          2.72700697e-01, -2.24383220e-01, -6.36764169e-02,\n",
              "          1.37239993e-01],\n",
              "        [-2.81690359e-01,  1.46247774e-01, -1.24759808e-01,\n",
              "          5.79725802e-02, -1.79465830e-01,  1.12092316e-01,\n",
              "          1.19868398e-01, -1.82088122e-01, -4.03931737e-03,\n",
              "         -1.04434565e-01],\n",
              "        [-2.11323872e-01,  2.06422955e-01,  1.49362087e-02,\n",
              "         -7.63589144e-03, -4.16901410e-02,  7.82448649e-02,\n",
              "          2.50280708e-01, -9.92327929e-04, -1.24529794e-01,\n",
              "          4.06766236e-02],\n",
              "        [ 1.65583551e-01, -2.71106243e-01,  4.63534892e-02,\n",
              "          1.25694573e-02, -2.00117975e-01,  1.83908433e-01,\n",
              "         -9.14923996e-02,  5.76700568e-02,  4.78047132e-03,\n",
              "          1.02970868e-01],\n",
              "        [ 2.53576189e-01,  2.18225807e-01, -2.65431404e-02,\n",
              "         -1.48562059e-01, -3.30848694e-02,  5.86199760e-02,\n",
              "         -1.91911057e-01, -1.25841141e-01, -1.03892401e-01,\n",
              "          2.76581138e-01],\n",
              "        [-2.49888808e-01, -1.54822245e-01,  1.78819746e-01,\n",
              "          1.69918865e-01,  1.24008417e-01,  1.98087186e-01,\n",
              "          2.72942930e-01,  1.60757840e-01, -1.05804503e-01,\n",
              "         -1.31690532e-01],\n",
              "        [-2.81884700e-01, -1.41891554e-01,  1.22604072e-01,\n",
              "          1.98096305e-01,  1.98407501e-01, -4.84678447e-02,\n",
              "         -7.22414255e-03, -1.91386551e-01, -2.23091632e-01,\n",
              "         -8.03621262e-02],\n",
              "        [-1.11876369e-01, -1.44249201e-01,  2.36979872e-01,\n",
              "         -4.53522801e-02, -1.32886738e-01, -1.79751813e-02,\n",
              "          2.18560487e-01, -6.11042976e-03, -4.08614129e-02,\n",
              "         -1.96593106e-02],\n",
              "        [-2.51108080e-01, -1.64581984e-01,  2.49452889e-02,\n",
              "          6.34546280e-02,  9.94014144e-02,  1.49785817e-01,\n",
              "          2.70349532e-01,  2.48359233e-01,  1.45653188e-02,\n",
              "          9.47350562e-02],\n",
              "        [-2.63126135e-01, -1.42115846e-01, -1.58033937e-01,\n",
              "         -2.65336961e-01, -2.56224275e-01,  2.64361352e-01,\n",
              "         -1.16747618e-02,  7.63287544e-02, -1.06797114e-01,\n",
              "          1.31390274e-01],\n",
              "        [-1.77493051e-01, -1.02974340e-01,  2.68979937e-01,\n",
              "         -1.08078033e-01,  2.14100003e-01,  8.99900198e-02,\n",
              "         -7.18550831e-02, -1.71149567e-01, -1.72157034e-01,\n",
              "          8.79636705e-02],\n",
              "        [-2.68018782e-01, -1.80055186e-01,  1.43448114e-01,\n",
              "         -6.02805316e-02,  1.27290428e-01, -1.37735307e-01,\n",
              "         -8.97238851e-02, -3.87808830e-02,  1.15265191e-01,\n",
              "         -1.41176581e-03],\n",
              "        [-6.20794594e-02,  8.52049887e-02,  1.17886573e-01,\n",
              "          1.04348630e-01, -6.10541403e-02, -4.78507280e-02,\n",
              "         -1.89698428e-01, -1.69322193e-02, -1.15089074e-01,\n",
              "         -2.72445410e-01],\n",
              "        [ 3.01574767e-02,  1.06476277e-01,  2.73666412e-01,\n",
              "          5.39610088e-02,  1.00495636e-01,  2.15105832e-01,\n",
              "         -6.81737959e-02, -1.19587675e-01, -4.61786985e-03,\n",
              "         -2.58314103e-01],\n",
              "        [ 4.05624211e-02, -1.07230306e-01, -1.59054443e-01,\n",
              "         -1.99205339e-01, -1.03810936e-01, -1.70931026e-01,\n",
              "          4.96433377e-02, -2.63055146e-01,  2.52447635e-01,\n",
              "         -2.46780425e-01],\n",
              "        [ 5.14434874e-02, -1.04407951e-01,  1.88948512e-01,\n",
              "         -1.08449399e-01, -1.28376782e-02,  1.48777455e-01,\n",
              "          5.87579310e-02, -1.58857644e-01, -1.99430108e-01,\n",
              "          2.13635415e-01],\n",
              "        [ 1.33087635e-01, -2.14654580e-01, -2.58059174e-01,\n",
              "          1.51450872e-01,  1.46612227e-01, -2.23214030e-01,\n",
              "         -1.19113818e-01, -2.17391729e-01,  1.11825109e-01,\n",
              "         -2.23750889e-01],\n",
              "        [-1.91378877e-01, -1.96783394e-01, -1.56433180e-01,\n",
              "          2.19169825e-01, -1.26459077e-01, -8.62931907e-02,\n",
              "         -6.72820657e-02,  1.21416479e-01, -1.35491982e-01,\n",
              "          1.90421849e-01],\n",
              "        [ 5.73887229e-02,  2.71078557e-01,  8.78949463e-02,\n",
              "         -1.31168395e-01, -1.13320351e-03,  5.12385368e-02,\n",
              "          2.04857916e-01,  6.76447153e-03,  9.98032987e-02,\n",
              "         -1.51408583e-01],\n",
              "        [-2.32080206e-01,  2.17624277e-01,  2.11391568e-01,\n",
              "          8.45144987e-02, -1.78487018e-01,  1.48915827e-01,\n",
              "          1.88650131e-01,  1.68317586e-01,  2.40457088e-01,\n",
              "          2.10422367e-01],\n",
              "        [-2.69721568e-01,  3.13285589e-02,  6.19392693e-02,\n",
              "          1.17610276e-01,  1.19785368e-01, -9.89090800e-02,\n",
              "         -8.89089704e-03, -2.12069899e-01,  2.12015718e-01,\n",
              "         -2.00691223e-01],\n",
              "        [-1.24874130e-01, -5.67165017e-03, -2.38732457e-01,\n",
              "         -2.23267943e-01,  1.03845149e-01, -1.62992284e-01,\n",
              "          9.37352479e-02,  8.05102587e-02,  1.12691313e-01,\n",
              "          2.23904759e-01],\n",
              "        [-1.56450272e-02, -1.46322668e-01, -8.06046873e-02,\n",
              "          1.76298410e-01,  9.45410132e-02,  1.43784851e-01,\n",
              "         -1.50600895e-01, -1.20781913e-01,  2.72639781e-01,\n",
              "          2.40096182e-01],\n",
              "        [-2.64581412e-01,  2.40283221e-01, -1.24575973e-01,\n",
              "          2.17352420e-01, -1.65251836e-01, -2.28030622e-01,\n",
              "         -1.47947595e-01,  1.29067838e-01,  2.05504954e-01,\n",
              "          1.32522166e-01],\n",
              "        [-3.83673757e-02,  1.70181602e-01,  5.12776971e-02,\n",
              "         -2.66188979e-02,  6.44864142e-02, -2.24881932e-01,\n",
              "          1.73178226e-01,  2.38481075e-01, -1.65820539e-01,\n",
              "         -3.51655185e-02],\n",
              "        [-2.96778977e-02,  1.26239508e-01,  2.81710178e-01,\n",
              "         -1.72176048e-01, -2.57264346e-01, -5.88123053e-02,\n",
              "          1.05887651e-03, -2.34075665e-01,  7.26406872e-02,\n",
              "         -2.33220607e-01],\n",
              "        [ 2.69092023e-02, -2.08909258e-01, -2.53579855e-01,\n",
              "         -2.54491150e-01, -2.29279652e-01,  2.56004840e-01,\n",
              "          1.64545804e-01, -3.03270519e-02, -9.05894786e-02,\n",
              "          2.07353592e-01],\n",
              "        [-2.95362175e-02, -1.67407855e-01,  1.48785740e-01,\n",
              "         -1.24207944e-01,  2.85663605e-02, -7.90811181e-02,\n",
              "         -2.52059877e-01, -1.86117887e-02, -9.01534259e-02,\n",
              "          6.54248893e-02],\n",
              "        [-6.39859885e-02, -7.63428211e-02, -8.34213346e-02,\n",
              "          1.61780387e-01,  8.70285630e-02,  2.40534544e-04,\n",
              "          2.67693073e-01,  9.92690921e-02,  1.03319824e-01,\n",
              "         -1.10580221e-01],\n",
              "        [ 1.93669587e-01,  1.98271990e-01, -1.93613917e-01,\n",
              "         -2.20269814e-01, -2.06347406e-01, -2.19087183e-01,\n",
              "         -1.32622659e-01, -1.74619511e-01,  1.61325753e-01,\n",
              "         -3.53668034e-02],\n",
              "        [ 5.59642911e-03,  1.17701292e-02, -2.67446667e-01,\n",
              "         -3.51968855e-02, -3.84499282e-02,  2.05358177e-01,\n",
              "         -8.54779035e-02, -2.53013998e-01,  1.82752073e-01,\n",
              "         -7.91672021e-02],\n",
              "        [ 2.41730899e-01,  1.95603400e-01,  2.23303229e-01,\n",
              "          1.75854415e-01, -2.27296814e-01, -1.07184693e-01,\n",
              "          5.40105104e-02, -2.31085971e-01,  1.48734570e-01,\n",
              "          4.48747277e-02],\n",
              "        [ 2.68490404e-01, -1.08451977e-01,  1.03387505e-01,\n",
              "          1.80470198e-01, -8.59050602e-02, -1.74048573e-01,\n",
              "         -1.45593330e-01, -2.28239581e-01, -2.25661904e-01,\n",
              "         -6.58966601e-02],\n",
              "        [-2.19926536e-02,  1.66680843e-01,  3.24839652e-02,\n",
              "         -1.30252510e-01, -1.19196028e-01,  4.66262698e-02,\n",
              "          2.14981943e-01, -1.34500533e-01,  1.53178722e-01,\n",
              "         -4.49648499e-03],\n",
              "        [ 1.57631099e-01, -2.52480268e-01, -1.13147661e-01,\n",
              "         -1.35492057e-01,  2.16130048e-01,  7.71370530e-03,\n",
              "         -1.43806219e-01,  1.15710050e-01, -1.03058115e-01,\n",
              "          1.02972686e-02],\n",
              "        [-7.23676383e-02, -2.48813167e-01,  6.48570657e-02,\n",
              "          3.44269574e-02,  1.93551123e-01,  2.25020379e-01,\n",
              "          5.56496978e-02, -1.72131106e-01, -2.65915990e-02,\n",
              "         -2.41403818e-01],\n",
              "        [ 5.53873777e-02, -1.43270165e-01,  2.58455902e-01,\n",
              "         -1.94265112e-01,  1.40766293e-01,  7.71453381e-02,\n",
              "          6.16317987e-02,  2.43601888e-01, -1.22420087e-01,\n",
              "         -1.93582013e-01],\n",
              "        [-1.45687029e-01,  1.87223941e-01, -1.18216455e-01,\n",
              "          7.68880248e-02, -2.45302007e-01,  6.24787807e-02,\n",
              "          1.53049737e-01,  2.36687690e-01,  2.58207053e-01,\n",
              "         -1.92937613e-01],\n",
              "        [-1.22613832e-01,  2.36706644e-01,  5.08324802e-02,\n",
              "          2.81024903e-01,  7.39049315e-02, -7.75860101e-02,\n",
              "         -2.58351505e-01, -1.84046596e-01, -8.97229463e-02,\n",
              "          1.76998198e-01],\n",
              "        [ 1.62415236e-01,  1.70351118e-01, -5.35059571e-02,\n",
              "         -1.68975890e-01, -2.21411109e-01,  2.30584055e-01,\n",
              "          7.40305185e-02,  1.20119184e-01, -8.04397464e-03,\n",
              "          2.46497720e-01],\n",
              "        [-1.46952569e-02,  8.65261853e-02, -2.03961983e-01,\n",
              "         -1.79762244e-02,  1.60213858e-01, -1.73517942e-01,\n",
              "         -8.82109106e-02, -2.60861039e-01,  2.61070698e-01,\n",
              "          2.30268151e-01]], dtype=float32)>,\n",
              " <tf.Variable 'dense_3/bias:0' shape=(10,) dtype=float32, numpy=array([0., 0., 0., 0., 0., 0., 0., 0., 0., 0.], dtype=float32)>]"
            ]
          },
          "metadata": {},
          "execution_count": 6
        }
      ]
    },
    {
      "cell_type": "code",
      "source": [
        "inputs = keras.Input(shape=(3,), name=\"my_input\")\n",
        "features = layers.Dense(64, activation=\"relu\")(inputs)\n",
        "outputs = layers.Dense(10, activation=\"softmax\")(features)\n",
        "model = keras.Model(inputs=inputs, outputs=outputs)"
      ],
      "metadata": {
        "id": "ovIjdwYjMLU_"
      },
      "execution_count": 7,
      "outputs": []
    },
    {
      "cell_type": "code",
      "source": [
        "inputs = keras.Input(shape=(3,), name=\"my_input\")"
      ],
      "metadata": {
        "id": "NzZa6cx4MnJk"
      },
      "execution_count": 8,
      "outputs": []
    },
    {
      "cell_type": "code",
      "source": [
        "inputs.shape"
      ],
      "metadata": {
        "colab": {
          "base_uri": "https://localhost:8080/"
        },
        "id": "ml1EE5UFMsLZ",
        "outputId": "6666aaa3-224f-4787-b060-9f571e437d47"
      },
      "execution_count": 9,
      "outputs": [
        {
          "output_type": "execute_result",
          "data": {
            "text/plain": [
              "TensorShape([None, 3])"
            ]
          },
          "metadata": {},
          "execution_count": 9
        }
      ]
    },
    {
      "cell_type": "code",
      "source": [
        "inputs.dtype"
      ],
      "metadata": {
        "colab": {
          "base_uri": "https://localhost:8080/"
        },
        "id": "xyOwLgKHMuVy",
        "outputId": "1b12674b-541a-4916-d6d0-66a922f05321"
      },
      "execution_count": 10,
      "outputs": [
        {
          "output_type": "execute_result",
          "data": {
            "text/plain": [
              "tf.float32"
            ]
          },
          "metadata": {},
          "execution_count": 10
        }
      ]
    },
    {
      "cell_type": "code",
      "source": [
        "features = layers.Dense(64, activation=\"relu\")(inputs)"
      ],
      "metadata": {
        "id": "BqV-yA4PM61Z"
      },
      "execution_count": 11,
      "outputs": []
    },
    {
      "cell_type": "code",
      "source": [
        "features.shape"
      ],
      "metadata": {
        "colab": {
          "base_uri": "https://localhost:8080/"
        },
        "id": "FTUe_40yNDXU",
        "outputId": "c23caf4f-1deb-4163-e663-142b2d12f6d8"
      },
      "execution_count": 12,
      "outputs": [
        {
          "output_type": "execute_result",
          "data": {
            "text/plain": [
              "TensorShape([None, 64])"
            ]
          },
          "metadata": {},
          "execution_count": 12
        }
      ]
    },
    {
      "cell_type": "code",
      "source": [
        "outputs = layers.Dense(10, activation=\"softmax\")(features)\n",
        "model = keras.Model(inputs=inputs, outputs=outputs)"
      ],
      "metadata": {
        "id": "RKFThXr6NGNh"
      },
      "execution_count": 13,
      "outputs": []
    },
    {
      "cell_type": "code",
      "source": [
        "model.summary()"
      ],
      "metadata": {
        "colab": {
          "base_uri": "https://localhost:8080/"
        },
        "id": "73HqdPiBNVym",
        "outputId": "dff58b5e-badf-41c2-fe14-3219114ca218"
      },
      "execution_count": 14,
      "outputs": [
        {
          "output_type": "stream",
          "name": "stdout",
          "text": [
            "Model: \"model_1\"\n",
            "_________________________________________________________________\n",
            " Layer (type)                Output Shape              Param #   \n",
            "=================================================================\n",
            " my_input (InputLayer)       [(None, 3)]               0         \n",
            "                                                                 \n",
            " dense_6 (Dense)             (None, 64)                256       \n",
            "                                                                 \n",
            " dense_7 (Dense)             (None, 10)                650       \n",
            "                                                                 \n",
            "=================================================================\n",
            "Total params: 906\n",
            "Trainable params: 906\n",
            "Non-trainable params: 0\n",
            "_________________________________________________________________\n"
          ]
        }
      ]
    }
  ]
}