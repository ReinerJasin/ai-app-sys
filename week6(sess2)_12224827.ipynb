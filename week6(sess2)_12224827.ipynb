{
  "nbformat": 4,
  "nbformat_minor": 0,
  "metadata": {
    "colab": {
      "provenance": [],
      "authorship_tag": "ABX9TyPfyRaZ1NxK8jnLVSyxcJ9C",
      "include_colab_link": true
    },
    "kernelspec": {
      "name": "python3",
      "display_name": "Python 3"
    },
    "language_info": {
      "name": "python"
    },
    "accelerator": "GPU"
  },
  "cells": [
    {
      "cell_type": "markdown",
      "metadata": {
        "id": "view-in-github",
        "colab_type": "text"
      },
      "source": [
        "<a href=\"https://colab.research.google.com/github/ReinerJasin/ai-app-sys/blob/main/week6(sess2)_12224827.ipynb\" target=\"_parent\"><img src=\"https://colab.research.google.com/assets/colab-badge.svg\" alt=\"Open In Colab\"/></a>"
      ]
    },
    {
      "cell_type": "markdown",
      "source": [
        "Installing the tensorflow"
      ],
      "metadata": {
        "id": "GTRQwH2RxcUh"
      }
    },
    {
      "cell_type": "code",
      "execution_count": 1,
      "metadata": {
        "colab": {
          "base_uri": "https://localhost:8080/",
          "height": 1000
        },
        "id": "n9qZmuxjvsXV",
        "outputId": "86bba410-1bb0-4348-8503-4e41f4523778"
      },
      "outputs": [
        {
          "output_type": "stream",
          "name": "stdout",
          "text": [
            "Looking in indexes: https://pypi.org/simple, https://us-python.pkg.dev/colab-wheels/public/simple/\n",
            "Collecting tensorflow==1.15.5\n",
            "  Downloading tensorflow-1.15.5-cp37-cp37m-manylinux2010_x86_64.whl (110.5 MB)\n",
            "\u001b[K     |████████████████████████████████| 110.5 MB 1.3 kB/s \n",
            "\u001b[?25hRequirement already satisfied: opt-einsum>=2.3.2 in /usr/local/lib/python3.7/dist-packages (from tensorflow==1.15.5) (3.3.0)\n",
            "Collecting tensorboard<1.16.0,>=1.15.0\n",
            "  Downloading tensorboard-1.15.0-py3-none-any.whl (3.8 MB)\n",
            "\u001b[K     |████████████████████████████████| 3.8 MB 52.7 MB/s \n",
            "\u001b[?25hRequirement already satisfied: wheel>=0.26 in /usr/local/lib/python3.7/dist-packages (from tensorflow==1.15.5) (0.37.1)\n",
            "Collecting h5py<=2.10.0\n",
            "  Downloading h5py-2.10.0-cp37-cp37m-manylinux1_x86_64.whl (2.9 MB)\n",
            "\u001b[K     |████████████████████████████████| 2.9 MB 63.2 MB/s \n",
            "\u001b[?25hRequirement already satisfied: keras-preprocessing>=1.0.5 in /usr/local/lib/python3.7/dist-packages (from tensorflow==1.15.5) (1.1.2)\n",
            "Requirement already satisfied: astor>=0.6.0 in /usr/local/lib/python3.7/dist-packages (from tensorflow==1.15.5) (0.8.1)\n",
            "Collecting tensorflow-estimator==1.15.1\n",
            "  Downloading tensorflow_estimator-1.15.1-py2.py3-none-any.whl (503 kB)\n",
            "\u001b[K     |████████████████████████████████| 503 kB 66.7 MB/s \n",
            "\u001b[?25hRequirement already satisfied: termcolor>=1.1.0 in /usr/local/lib/python3.7/dist-packages (from tensorflow==1.15.5) (1.1.0)\n",
            "Requirement already satisfied: protobuf>=3.6.1 in /usr/local/lib/python3.7/dist-packages (from tensorflow==1.15.5) (3.17.3)\n",
            "Requirement already satisfied: six>=1.10.0 in /usr/local/lib/python3.7/dist-packages (from tensorflow==1.15.5) (1.15.0)\n",
            "Requirement already satisfied: google-pasta>=0.1.6 in /usr/local/lib/python3.7/dist-packages (from tensorflow==1.15.5) (0.2.0)\n",
            "Collecting numpy<1.19.0,>=1.16.0\n",
            "  Downloading numpy-1.18.5-cp37-cp37m-manylinux1_x86_64.whl (20.1 MB)\n",
            "\u001b[K     |████████████████████████████████| 20.1 MB 1.2 MB/s \n",
            "\u001b[?25hCollecting gast==0.2.2\n",
            "  Downloading gast-0.2.2.tar.gz (10 kB)\n",
            "Requirement already satisfied: wrapt>=1.11.1 in /usr/local/lib/python3.7/dist-packages (from tensorflow==1.15.5) (1.14.1)\n",
            "Requirement already satisfied: absl-py>=0.7.0 in /usr/local/lib/python3.7/dist-packages (from tensorflow==1.15.5) (1.2.0)\n",
            "Requirement already satisfied: grpcio>=1.8.6 in /usr/local/lib/python3.7/dist-packages (from tensorflow==1.15.5) (1.48.1)\n",
            "Collecting keras-applications>=1.0.8\n",
            "  Downloading Keras_Applications-1.0.8-py3-none-any.whl (50 kB)\n",
            "\u001b[K     |████████████████████████████████| 50 kB 6.9 MB/s \n",
            "\u001b[?25hRequirement already satisfied: setuptools>=41.0.0 in /usr/local/lib/python3.7/dist-packages (from tensorboard<1.16.0,>=1.15.0->tensorflow==1.15.5) (57.4.0)\n",
            "Requirement already satisfied: werkzeug>=0.11.15 in /usr/local/lib/python3.7/dist-packages (from tensorboard<1.16.0,>=1.15.0->tensorflow==1.15.5) (1.0.1)\n",
            "Requirement already satisfied: markdown>=2.6.8 in /usr/local/lib/python3.7/dist-packages (from tensorboard<1.16.0,>=1.15.0->tensorflow==1.15.5) (3.4.1)\n",
            "Requirement already satisfied: importlib-metadata>=4.4 in /usr/local/lib/python3.7/dist-packages (from markdown>=2.6.8->tensorboard<1.16.0,>=1.15.0->tensorflow==1.15.5) (4.12.0)\n",
            "Requirement already satisfied: zipp>=0.5 in /usr/local/lib/python3.7/dist-packages (from importlib-metadata>=4.4->markdown>=2.6.8->tensorboard<1.16.0,>=1.15.0->tensorflow==1.15.5) (3.8.1)\n",
            "Requirement already satisfied: typing-extensions>=3.6.4 in /usr/local/lib/python3.7/dist-packages (from importlib-metadata>=4.4->markdown>=2.6.8->tensorboard<1.16.0,>=1.15.0->tensorflow==1.15.5) (4.1.1)\n",
            "Building wheels for collected packages: gast\n",
            "  Building wheel for gast (setup.py) ... \u001b[?25l\u001b[?25hdone\n",
            "  Created wheel for gast: filename=gast-0.2.2-py3-none-any.whl size=7554 sha256=7a15f2cdf3a061b1c42d4ed9c0644e98826c2b5e1c2ce62229db1b306885f6eb\n",
            "  Stored in directory: /root/.cache/pip/wheels/21/7f/02/420f32a803f7d0967b48dd823da3f558c5166991bfd204eef3\n",
            "Successfully built gast\n",
            "Installing collected packages: numpy, h5py, tensorflow-estimator, tensorboard, keras-applications, gast, tensorflow\n",
            "  Attempting uninstall: numpy\n",
            "    Found existing installation: numpy 1.21.6\n",
            "    Uninstalling numpy-1.21.6:\n",
            "      Successfully uninstalled numpy-1.21.6\n",
            "  Attempting uninstall: h5py\n",
            "    Found existing installation: h5py 3.1.0\n",
            "    Uninstalling h5py-3.1.0:\n",
            "      Successfully uninstalled h5py-3.1.0\n",
            "  Attempting uninstall: tensorflow-estimator\n",
            "    Found existing installation: tensorflow-estimator 2.8.0\n",
            "    Uninstalling tensorflow-estimator-2.8.0:\n",
            "      Successfully uninstalled tensorflow-estimator-2.8.0\n",
            "  Attempting uninstall: tensorboard\n",
            "    Found existing installation: tensorboard 2.8.0\n",
            "    Uninstalling tensorboard-2.8.0:\n",
            "      Successfully uninstalled tensorboard-2.8.0\n",
            "  Attempting uninstall: gast\n",
            "    Found existing installation: gast 0.5.3\n",
            "    Uninstalling gast-0.5.3:\n",
            "      Successfully uninstalled gast-0.5.3\n",
            "  Attempting uninstall: tensorflow\n",
            "    Found existing installation: tensorflow 2.8.2+zzzcolab20220719082949\n",
            "    Uninstalling tensorflow-2.8.2+zzzcolab20220719082949:\n",
            "      Successfully uninstalled tensorflow-2.8.2+zzzcolab20220719082949\n",
            "\u001b[31mERROR: pip's dependency resolver does not currently take into account all the packages that are installed. This behaviour is the source of the following dependency conflicts.\n",
            "xarray-einstats 0.2.2 requires numpy>=1.21, but you have numpy 1.18.5 which is incompatible.\n",
            "tensorflow-probability 0.16.0 requires gast>=0.3.2, but you have gast 0.2.2 which is incompatible.\n",
            "tables 3.7.0 requires numpy>=1.19.0, but you have numpy 1.18.5 which is incompatible.\n",
            "plotnine 0.8.0 requires numpy>=1.19.0, but you have numpy 1.18.5 which is incompatible.\n",
            "kapre 0.3.7 requires tensorflow>=2.0.0, but you have tensorflow 1.15.5 which is incompatible.\n",
            "jaxlib 0.3.15+cuda11.cudnn805 requires numpy>=1.19, but you have numpy 1.18.5 which is incompatible.\n",
            "jax 0.3.17 requires numpy>=1.20, but you have numpy 1.18.5 which is incompatible.\n",
            "cmdstanpy 1.0.7 requires numpy>=1.21, but you have numpy 1.18.5 which is incompatible.\u001b[0m\n",
            "Successfully installed gast-0.2.2 h5py-2.10.0 keras-applications-1.0.8 numpy-1.18.5 tensorboard-1.15.0 tensorflow-1.15.5 tensorflow-estimator-1.15.1\n"
          ]
        },
        {
          "output_type": "display_data",
          "data": {
            "application/vnd.colab-display-data+json": {
              "pip_warning": {
                "packages": [
                  "numpy"
                ]
              }
            }
          },
          "metadata": {}
        }
      ],
      "source": [
        "pip install tensorflow==1.15.5"
      ]
    },
    {
      "cell_type": "markdown",
      "source": [
        "Import dependencies"
      ],
      "metadata": {
        "id": "cHi4ZTlmxhqe"
      }
    },
    {
      "cell_type": "code",
      "source": [
        "import os\n",
        "import numpy as np\n",
        "import zipfile\n",
        "from urllib import request\n",
        "import matplotlib.pyplot as plt\n",
        "import matplotlib.image as mpimg\n",
        "import random\n",
        "import tensorflow as tf\n",
        "import cv2"
      ],
      "metadata": {
        "id": "oqMCgv9Tw3Ak"
      },
      "execution_count": 2,
      "outputs": []
    },
    {
      "cell_type": "markdown",
      "source": [
        "Read csv file using np.loadtxt"
      ],
      "metadata": {
        "id": "faBMrKeKxkdf"
      }
    },
    {
      "cell_type": "code",
      "source": [
        "img_database = np.loadtxt('fashion-mnist_train.csv', delimiter=',', skiprows=1)[:,1:]\n",
        "# Looking at the shape of the file\n",
        "print(img_database.shape)\n",
        "\n",
        "total_num_images = (img_database.shape[0])"
      ],
      "metadata": {
        "colab": {
          "base_uri": "https://localhost:8080/"
        },
        "id": "wTB3Uxx-xjss",
        "outputId": "5c958a8c-521c-48e8-c075-ffcd098d3700"
      },
      "execution_count": 7,
      "outputs": [
        {
          "output_type": "stream",
          "name": "stdout",
          "text": [
            "(60000, 784)\n"
          ]
        }
      ]
    },
    {
      "cell_type": "markdown",
      "source": [
        "Define the parameter for Neural Network"
      ],
      "metadata": {
        "id": "s66mLkFjx8nZ"
      }
    },
    {
      "cell_type": "code",
      "source": [
        "n_input = 784 # Input image size is 28 x 28\n",
        "hidden_layer_1 = 256\n",
        "hidden_layer_2 = 32\n",
        "hidden_layer_3 = 32\n",
        "hidden_layer_4 = 256\n",
        "output_layer = 784 # Same as the n_input dimension\n",
        "\n",
        "# Parameters\n",
        "learning_rate = 0.1\n",
        "epochs = 100\n",
        "batch_size = 100\n",
        "\n",
        "# Define the placeholders\n",
        "X = tf.placeholder(tf.float32, [None, n_input])\n",
        "Y = tf.placeholder(tf.float32, [None, output_layer])"
      ],
      "metadata": {
        "id": "ftiSkk-Mx_xW"
      },
      "execution_count": 8,
      "outputs": []
    },
    {
      "cell_type": "markdown",
      "source": [
        "Set the weight and bias"
      ],
      "metadata": {
        "id": "z5sEn_nezR7R"
      }
    },
    {
      "cell_type": "code",
      "source": [
        "# Weight and Bias definitions of Neural Network\n",
        "Weight_NN = {\"W1\": tf.Variable(tf.random_normal([n_input, hidden_layer_1])),\n",
        "             \"W2\": tf.Variable(tf.random_normal([hidden_layer_1, hidden_layer_2])),\n",
        "             \"W3\": tf.Variable(tf.random_normal([hidden_layer_2, hidden_layer_3])),\n",
        "             \"W4\": tf.Variable(tf.random_normal([hidden_layer_3, hidden_layer_4])),\n",
        "             \"W5\": tf.Variable(tf.random_normal([hidden_layer_4, output_layer])),\n",
        "             }\n",
        "\n",
        "Bias_NN = {\"B1\": tf.Variable(tf.random_normal([hidden_layer_1])),\n",
        "           \"B2\": tf.Variable(tf.random_normal([hidden_layer_2])),\n",
        "           \"B3\": tf.Variable(tf.random_normal([hidden_layer_3])),\n",
        "           \"B4\": tf.Variable(tf.random_normal([hidden_layer_4])),\n",
        "           \"B5\": tf.Variable(tf.random_normal([output_layer])),\n",
        "           }"
      ],
      "metadata": {
        "id": "o66lcw1pzTij"
      },
      "execution_count": 9,
      "outputs": []
    },
    {
      "cell_type": "markdown",
      "source": [
        "Create the computational Graph"
      ],
      "metadata": {
        "id": "SzoQzNBr0DIE"
      }
    },
    {
      "cell_type": "code",
      "source": [
        "# Neural Network\n",
        "Z1 = tf.add(tf.matmul(X, Weight_NN[\"W1\"]), Bias_NN[\"B1\"])\n",
        "Z1_out = tf.nn.sigmoid(Z1)\n",
        "\n",
        "Z2 = tf.add(tf.matmul(Z1_out, Weight_NN[\"W2\"]), Bias_NN[\"B2\"])\n",
        "Z2_out = tf.nn.sigmoid(Z2)\n",
        "\n",
        "Z3 = tf.add(tf.matmul(Z2_out, Weight_NN[\"W3\"]), Bias_NN[\"B3\"])\n",
        "Z3_out = tf.nn.sigmoid(Z3)\n",
        "\n",
        "Z4 = tf.add(tf.matmul(Z3_out, Weight_NN[\"W4\"]), Bias_NN[\"B4\"])\n",
        "Z4_out = tf.nn.sigmoid(Z4)\n",
        "\n",
        "Z5 = tf.add(tf.matmul(Z4_out, Weight_NN[\"W5\"]), Bias_NN[\"B5\"])\n",
        "Z5_out = tf.nn.sigmoid(Z5)"
      ],
      "metadata": {
        "id": "rzaTpiIJ0GCV"
      },
      "execution_count": 10,
      "outputs": []
    },
    {
      "cell_type": "markdown",
      "source": [
        "Implementing Neural Network model using TensorFlow API"
      ],
      "metadata": {
        "id": "GMj8Z9Nt06iz"
      }
    },
    {
      "cell_type": "code",
      "source": [
        "Z1 = tf.layers.dense(X, hidden_layer_1, activation = tf.nn.sigmoid)\n",
        "Z2 = tf.layers.dense(Z1, hidden_layer_2, activation = tf.nn.sigmoid)\n",
        "Z3 = tf.layers.dense(Z1, hidden_layer_3, activation = tf.nn.sigmoid)\n",
        "Z4 = tf.layers.dense(Z1, hidden_layer_4, activation = tf.nn.sigmoid)\n",
        "NN_output = tf.layers.dense(Z4, output_layer)"
      ],
      "metadata": {
        "id": "YQF2HoRZ0-RG"
      },
      "execution_count": 13,
      "outputs": []
    },
    {
      "cell_type": "markdown",
      "source": [
        "Shuffling the dataset to avoid bias, adding noise by 10"
      ],
      "metadata": {
        "id": "j58IV3Of1kKQ"
      }
    },
    {
      "cell_type": "code",
      "source": [
        "# Shuffle the dataset\n",
        "np.random.shuffle(img_database)\n",
        "\n",
        "X_train = img_database\n",
        "\n",
        "# Normalize the dataset\n",
        "X_train = X_train\n",
        "\n",
        "# Create a noisy dataset\n",
        "X_train_noisy = X_train + 10 * np.random.normal(0, 1, size = X_train.shape)\n",
        "\n",
        "# Original image\n",
        "plt.imshow(X_train[0].reshape(28, 28), cmap = 'gray')\n",
        "plt.show()\n",
        "\n",
        "# Noisy image\n",
        "plt.imshow(X_train_noisy[0].reshape(28,28), cmap = 'gray')\n",
        "plt.show()"
      ],
      "metadata": {
        "colab": {
          "base_uri": "https://localhost:8080/",
          "height": 513
        },
        "id": "EaRvSsPR1pri",
        "outputId": "faa2c694-db37-4cb8-e504-2722fe285c98"
      },
      "execution_count": 14,
      "outputs": [
        {
          "output_type": "display_data",
          "data": {
            "text/plain": [
              "<Figure size 432x288 with 1 Axes>"
            ],
            "image/png": "[encoded data removed]"
          },
          "metadata": {
            "needs_background": "light"
          }
        },
        {
          "output_type": "display_data",
          "data": {
            "text/plain": [
              "<Figure size 432x288 with 1 Axes>"
            ],
            "image/png": "[encoded data removed]"
          },
          "metadata": {
            "needs_background": "light"
          }
        }
      ]
    },
    {
      "cell_type": "markdown",
      "source": [
        "Define the metrics"
      ],
      "metadata": {
        "id": "bvb6DhDk2o3K"
      }
    },
    {
      "cell_type": "code",
      "source": [
        "# The loss function\n",
        "computed_loss = tf.reduce_mean(tf.square(NN_output-Y))\n",
        "\n",
        "# Define the optimizer\n",
        "optimizer = tf.train.AdagradOptimizer(learning_rate).minimize(computed_loss)\n",
        "\n",
        "# Initialize the variables\n",
        "init = tf.global_variables_initializer()"
      ],
      "metadata": {
        "colab": {
          "base_uri": "https://localhost:8080/"
        },
        "id": "b-hd52cE2sCS",
        "outputId": "648dfb2e-f4a0-4a2e-8bab-4e640c28fc9b"
      },
      "execution_count": 16,
      "outputs": [
        {
          "output_type": "stream",
          "name": "stderr",
          "text": [
            "WARNING:tensorflow:From /usr/local/lib/python3.7/dist-packages/tensorflow_core/python/training/adagrad.py:76: calling Constant.__init__ (from tensorflow.python.ops.init_ops) with dtype is deprecated and will be removed in a future version.\n",
            "Instructions for updating:\n",
            "Call initializer instance with the dtype argument instead of passing it to the constructor\n"
          ]
        }
      ]
    },
    {
      "cell_type": "markdown",
      "source": [
        "Run the session"
      ],
      "metadata": {
        "id": "dyP5dfQz3Zb5"
      }
    },
    {
      "cell_type": "code",
      "source": [
        "sess = tf.Session()\n",
        "sess.run(init)\n",
        "for epoch in range(epochs):\n",
        "  for i in range(int(total_num_images/batch_size)):\n",
        "    X_epoch = X_train[i * batch_size : (i+1) * batch_size]\n",
        "    X_noise_epoch = X_train_noisy[i * batch_size : (i+1) * batch_size]\n",
        "    _, loss = sess.run([optimizer, computed_loss], feed_dict = {X: X_noise_epoch, Y: X_epoch})\n",
        "  print('Epoch', epoch, '/', epochs, 'loss', loss)\n",
        "\n",
        "# Pick any image\n",
        "X_actual = X_train[:10]\n",
        "noisy_image = X_train_noisy[:10]\n",
        "\n",
        "# Run it through the autoencoder\n",
        "denoised_image = sess.run(NN_output, feed_dict={X:noisy_image})"
      ],
      "metadata": {
        "colab": {
          "base_uri": "https://localhost:8080/"
        },
        "id": "hnyUpkGO3atn",
        "outputId": "9992b10c-e56f-4504-b682-eaf87487ec1e"
      },
      "execution_count": 19,
      "outputs": [
        {
          "output_type": "stream",
          "name": "stdout",
          "text": [
            "Epoch 0 / 100 loss 4401.1846\n",
            "Epoch 1 / 100 loss 4124.2275\n",
            "Epoch 2 / 100 loss 3731.4285\n",
            "Epoch 3 / 100 loss 3567.8054\n",
            "Epoch 4 / 100 loss 3650.1624\n",
            "Epoch 5 / 100 loss 3428.387\n",
            "Epoch 6 / 100 loss 3446.4143\n",
            "Epoch 7 / 100 loss 3382.4712\n",
            "Epoch 8 / 100 loss 3287.777\n",
            "Epoch 9 / 100 loss 3261.5527\n",
            "Epoch 10 / 100 loss 3177.7866\n",
            "Epoch 11 / 100 loss 3207.6016\n",
            "Epoch 12 / 100 loss 3153.7244\n",
            "Epoch 13 / 100 loss 3096.594\n",
            "Epoch 14 / 100 loss 3098.4202\n",
            "Epoch 15 / 100 loss 3034.2036\n",
            "Epoch 16 / 100 loss 3003.378\n",
            "Epoch 17 / 100 loss 3030.1775\n",
            "Epoch 18 / 100 loss 3003.5327\n",
            "Epoch 19 / 100 loss 3034.0989\n",
            "Epoch 20 / 100 loss 2937.1604\n",
            "Epoch 21 / 100 loss 3001.8264\n",
            "Epoch 22 / 100 loss 3002.4136\n",
            "Epoch 23 / 100 loss 3061.7817\n",
            "Epoch 24 / 100 loss 2943.4119\n",
            "Epoch 25 / 100 loss 2987.926\n",
            "Epoch 26 / 100 loss 2921.0017\n",
            "Epoch 27 / 100 loss 2864.7976\n",
            "Epoch 28 / 100 loss 2838.705\n",
            "Epoch 29 / 100 loss 2833.2617\n",
            "Epoch 30 / 100 loss 2900.0586\n",
            "Epoch 31 / 100 loss 2862.1873\n",
            "Epoch 32 / 100 loss 2786.2566\n",
            "Epoch 33 / 100 loss 2835.9575\n",
            "Epoch 34 / 100 loss 2873.884\n",
            "Epoch 35 / 100 loss 2849.5068\n",
            "Epoch 36 / 100 loss 2799.966\n",
            "Epoch 37 / 100 loss 2842.7644\n",
            "Epoch 38 / 100 loss 2808.0454\n",
            "Epoch 39 / 100 loss 2798.3525\n",
            "Epoch 40 / 100 loss 2741.5083\n",
            "Epoch 41 / 100 loss 2710.2146\n",
            "Epoch 42 / 100 loss 2866.7039\n",
            "Epoch 43 / 100 loss 2714.174\n",
            "Epoch 44 / 100 loss 2781.005\n",
            "Epoch 45 / 100 loss 2805.0303\n",
            "Epoch 46 / 100 loss 2717.6272\n",
            "Epoch 47 / 100 loss 2710.833\n",
            "Epoch 48 / 100 loss 2721.872\n",
            "Epoch 49 / 100 loss 2657.726\n",
            "Epoch 50 / 100 loss 2653.4878\n",
            "Epoch 51 / 100 loss 2654.517\n",
            "Epoch 52 / 100 loss 2659.2366\n",
            "Epoch 53 / 100 loss 2691.8474\n",
            "Epoch 54 / 100 loss 2704.1096\n",
            "Epoch 55 / 100 loss 2694.6462\n",
            "Epoch 56 / 100 loss 2652.9944\n",
            "Epoch 57 / 100 loss 2661.2778\n",
            "Epoch 58 / 100 loss 2602.9714\n",
            "Epoch 59 / 100 loss 2627.3997\n",
            "Epoch 60 / 100 loss 2699.156\n",
            "Epoch 61 / 100 loss 2585.053\n",
            "Epoch 62 / 100 loss 2638.9695\n",
            "Epoch 63 / 100 loss 2613.681\n",
            "Epoch 64 / 100 loss 2571.1934\n",
            "Epoch 65 / 100 loss 2527.2727\n",
            "Epoch 66 / 100 loss 2658.3137\n",
            "Epoch 67 / 100 loss 2555.564\n",
            "Epoch 68 / 100 loss 2515.998\n",
            "Epoch 69 / 100 loss 2555.369\n",
            "Epoch 70 / 100 loss 2527.9868\n",
            "Epoch 71 / 100 loss 2529.7278\n",
            "Epoch 72 / 100 loss 2506.89\n",
            "Epoch 73 / 100 loss 2520.7285\n",
            "Epoch 74 / 100 loss 2528.5383\n",
            "Epoch 75 / 100 loss 2548.4302\n",
            "Epoch 76 / 100 loss 2602.093\n",
            "Epoch 77 / 100 loss 2494.1914\n",
            "Epoch 78 / 100 loss 2554.9102\n",
            "Epoch 79 / 100 loss 2585.7478\n",
            "Epoch 80 / 100 loss 2552.6174\n",
            "Epoch 81 / 100 loss 2517.8704\n",
            "Epoch 82 / 100 loss 2528.5715\n",
            "Epoch 83 / 100 loss 2526.2083\n",
            "Epoch 84 / 100 loss 2505.5305\n",
            "Epoch 85 / 100 loss 2501.722\n",
            "Epoch 86 / 100 loss 2475.5007\n",
            "Epoch 87 / 100 loss 2513.985\n",
            "Epoch 88 / 100 loss 2571.353\n",
            "Epoch 89 / 100 loss 2482.8157\n",
            "Epoch 90 / 100 loss 2500.4236\n",
            "Epoch 91 / 100 loss 2451.6416\n",
            "Epoch 92 / 100 loss 2506.048\n",
            "Epoch 93 / 100 loss 2501.1262\n",
            "Epoch 94 / 100 loss 2473.293\n",
            "Epoch 95 / 100 loss 2497.5886\n",
            "Epoch 96 / 100 loss 2475.7747\n",
            "Epoch 97 / 100 loss 2507.129\n",
            "Epoch 98 / 100 loss 2507.625\n",
            "Epoch 99 / 100 loss 2440.147\n"
          ]
        }
      ]
    },
    {
      "cell_type": "markdown",
      "source": [
        "Second way to initializing the session"
      ],
      "metadata": {
        "id": "h7lVagbd4bIv"
      }
    },
    {
      "cell_type": "code",
      "source": [
        "# Another way of running session\n",
        "\n",
        "X_aztual = X_train[:10]\n",
        "noisy_image = X_train_noisy[:10]\n",
        "with tf.Session() as sess:\n",
        "  sess.run(init)\n",
        "  for epoch in range(epochs):\n",
        "    for i in range(int(total_num_images/batch_size)):\n",
        "      X_epoch = X_train[i * batch_size : (i*1) * batch_size]\n",
        "      X_noise_epoch = X_train_noisy[i * batch_size : (i*1)*batch_size]\n",
        "      _, loss = sess.run([optimizer, computed_loss], feed_dict = {X: X_noise_epoch, Y: X_epoch})\n",
        "    print('Epoch', epoch, '/', epochs, 'loss:', loss)\n",
        "  denoised_image = sess.run(NN_output, feed_dict = {X: noisy_image})\n",
        "\n",
        "# Pick any image\n",
        "\n",
        "# Print the original image\n",
        "fig, axes = plt.subplots(nrows=3, ncols=10, sharex=True, sharey=True, figsize=(20,4))\n",
        "for images, row in zip([X_actual, noisy_image, denoised_image], axes):\n",
        "  for img, ax in zip(images, row):\n",
        "    ax.imshow(img.reshape((28,28)), cmap='gray')\n",
        "    ax.get_xaxis().set_visible(False)\n",
        "    ax.get_yaxis().set_visible(False)\n",
        "\n",
        "fig.tight_layout(pad=0.1)"
      ],
      "metadata": {
        "colab": {
          "base_uri": "https://localhost:8080/",
          "height": 1000
        },
        "id": "y7jIOIL74dgK",
        "outputId": "e0b804bd-e940-43d5-cd17-8a9a262875bd"
      },
      "execution_count": 20,
      "outputs": [
        {
          "output_type": "stream",
          "name": "stdout",
          "text": [
            "Epoch 0 / 100 loss: nan\n",
            "Epoch 1 / 100 loss: nan\n",
            "Epoch 2 / 100 loss: nan\n",
            "Epoch 3 / 100 loss: nan\n",
            "Epoch 4 / 100 loss: nan\n",
            "Epoch 5 / 100 loss: nan\n",
            "Epoch 6 / 100 loss: nan\n",
            "Epoch 7 / 100 loss: nan\n",
            "Epoch 8 / 100 loss: nan\n",
            "Epoch 9 / 100 loss: nan\n",
            "Epoch 10 / 100 loss: nan\n",
            "Epoch 11 / 100 loss: nan\n",
            "Epoch 12 / 100 loss: nan\n",
            "Epoch 13 / 100 loss: nan\n",
            "Epoch 14 / 100 loss: nan\n",
            "Epoch 15 / 100 loss: nan\n",
            "Epoch 16 / 100 loss: nan\n",
            "Epoch 17 / 100 loss: nan\n",
            "Epoch 18 / 100 loss: nan\n",
            "Epoch 19 / 100 loss: nan\n",
            "Epoch 20 / 100 loss: nan\n",
            "Epoch 21 / 100 loss: nan\n",
            "Epoch 22 / 100 loss: nan\n",
            "Epoch 23 / 100 loss: nan\n",
            "Epoch 24 / 100 loss: nan\n",
            "Epoch 25 / 100 loss: nan\n",
            "Epoch 26 / 100 loss: nan\n",
            "Epoch 27 / 100 loss: nan\n",
            "Epoch 28 / 100 loss: nan\n",
            "Epoch 29 / 100 loss: nan\n",
            "Epoch 30 / 100 loss: nan\n",
            "Epoch 31 / 100 loss: nan\n",
            "Epoch 32 / 100 loss: nan\n",
            "Epoch 33 / 100 loss: nan\n",
            "Epoch 34 / 100 loss: nan\n",
            "Epoch 35 / 100 loss: nan\n",
            "Epoch 36 / 100 loss: nan\n",
            "Epoch 37 / 100 loss: nan\n",
            "Epoch 38 / 100 loss: nan\n",
            "Epoch 39 / 100 loss: nan\n",
            "Epoch 40 / 100 loss: nan\n",
            "Epoch 41 / 100 loss: nan\n",
            "Epoch 42 / 100 loss: nan\n",
            "Epoch 43 / 100 loss: nan\n",
            "Epoch 44 / 100 loss: nan\n",
            "Epoch 45 / 100 loss: nan\n",
            "Epoch 46 / 100 loss: nan\n",
            "Epoch 47 / 100 loss: nan\n",
            "Epoch 48 / 100 loss: nan\n",
            "Epoch 49 / 100 loss: nan\n",
            "Epoch 50 / 100 loss: nan\n",
            "Epoch 51 / 100 loss: nan\n",
            "Epoch 52 / 100 loss: nan\n",
            "Epoch 53 / 100 loss: nan\n",
            "Epoch 54 / 100 loss: nan\n",
            "Epoch 55 / 100 loss: nan\n",
            "Epoch 56 / 100 loss: nan\n",
            "Epoch 57 / 100 loss: nan\n",
            "Epoch 58 / 100 loss: nan\n",
            "Epoch 59 / 100 loss: nan\n",
            "Epoch 60 / 100 loss: nan\n",
            "Epoch 61 / 100 loss: nan\n",
            "Epoch 62 / 100 loss: nan\n",
            "Epoch 63 / 100 loss: nan\n",
            "Epoch 64 / 100 loss: nan\n",
            "Epoch 65 / 100 loss: nan\n",
            "Epoch 66 / 100 loss: nan\n",
            "Epoch 67 / 100 loss: nan\n",
            "Epoch 68 / 100 loss: nan\n",
            "Epoch 69 / 100 loss: nan\n",
            "Epoch 70 / 100 loss: nan\n",
            "Epoch 71 / 100 loss: nan\n",
            "Epoch 72 / 100 loss: nan\n",
            "Epoch 73 / 100 loss: nan\n",
            "Epoch 74 / 100 loss: nan\n",
            "Epoch 75 / 100 loss: nan\n",
            "Epoch 76 / 100 loss: nan\n",
            "Epoch 77 / 100 loss: nan\n",
            "Epoch 78 / 100 loss: nan\n",
            "Epoch 79 / 100 loss: nan\n",
            "Epoch 80 / 100 loss: nan\n",
            "Epoch 81 / 100 loss: nan\n",
            "Epoch 82 / 100 loss: nan\n",
            "Epoch 83 / 100 loss: nan\n",
            "Epoch 84 / 100 loss: nan\n",
            "Epoch 85 / 100 loss: nan\n",
            "Epoch 86 / 100 loss: nan\n",
            "Epoch 87 / 100 loss: nan\n",
            "Epoch 88 / 100 loss: nan\n",
            "Epoch 89 / 100 loss: nan\n",
            "Epoch 90 / 100 loss: nan\n",
            "Epoch 91 / 100 loss: nan\n",
            "Epoch 92 / 100 loss: nan\n",
            "Epoch 93 / 100 loss: nan\n",
            "Epoch 94 / 100 loss: nan\n",
            "Epoch 95 / 100 loss: nan\n",
            "Epoch 96 / 100 loss: nan\n",
            "Epoch 97 / 100 loss: nan\n",
            "Epoch 98 / 100 loss: nan\n",
            "Epoch 99 / 100 loss: nan\n"
          ]
        },
        {
          "output_type": "display_data",
          "data": {
            "text/plain": [
              "<Figure size 1440x288 with 30 Axes>"
            ],
            "image/png": "[encoded data removed]"
          },
          "metadata": {
            "needs_background": "light"
          }
        }
      ]
    }
  ]
}