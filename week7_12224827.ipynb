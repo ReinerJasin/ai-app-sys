{
  "nbformat": 4,
  "nbformat_minor": 0,
  "metadata": {
    "colab": {
      "provenance": [],
      "authorship_tag": "ABX9TyPveoB3Uzle8q19nrwL4PKF",
      "include_colab_link": true
    },
    "kernelspec": {
      "name": "python3",
      "display_name": "Python 3"
    },
    "language_info": {
      "name": "python"
    },
    "accelerator": "GPU",
    "widgets": {
      "application/vnd.jupyter.widget-state+json": {
        "034e6c4e55f34c94b5c6c671d68d3e6d": {
          "model_module": "@jupyter-widgets/controls",
          "model_name": "HBoxModel",
          "model_module_version": "1.5.0",
          "state": {
            "_dom_classes": [],
            "_model_module": "@jupyter-widgets/controls",
            "_model_module_version": "1.5.0",
            "_model_name": "HBoxModel",
            "_view_count": null,
            "_view_module": "@jupyter-widgets/controls",
            "_view_module_version": "1.5.0",
            "_view_name": "HBoxView",
            "box_style": "",
            "children": [
              "IPY_MODEL_ca47171e0fe8443bad9d2ab28dbeacdd",
              "IPY_MODEL_2d08f7eb47484ed182bd702001479b24",
              "IPY_MODEL_bd3ed55ac2184fe9ad6311dc41983a34"
            ],
            "layout": "IPY_MODEL_bd3f1d55c92c42faac2dc839cb86daf2"
          }
        },
        "ca47171e0fe8443bad9d2ab28dbeacdd": {
          "model_module": "@jupyter-widgets/controls",
          "model_name": "HTMLModel",
          "model_module_version": "1.5.0",
          "state": {
            "_dom_classes": [],
            "_model_module": "@jupyter-widgets/controls",
            "_model_module_version": "1.5.0",
            "_model_name": "HTMLModel",
            "_view_count": null,
            "_view_module": "@jupyter-widgets/controls",
            "_view_module_version": "1.5.0",
            "_view_name": "HTMLView",
            "description": "",
            "description_tooltip": null,
            "layout": "IPY_MODEL_714a04abf5a7491d814d43937a3fe69f",
            "placeholder": "​",
            "style": "IPY_MODEL_d2fdf6197143447381f034b7b85442a4",
            "value": "100%"
          }
        },
        "2d08f7eb47484ed182bd702001479b24": {
          "model_module": "@jupyter-widgets/controls",
          "model_name": "FloatProgressModel",
          "model_module_version": "1.5.0",
          "state": {
            "_dom_classes": [],
            "_model_module": "@jupyter-widgets/controls",
            "_model_module_version": "1.5.0",
            "_model_name": "FloatProgressModel",
            "_view_count": null,
            "_view_module": "@jupyter-widgets/controls",
            "_view_module_version": "1.5.0",
            "_view_name": "ProgressView",
            "bar_style": "success",
            "description": "",
            "description_tooltip": null,
            "layout": "IPY_MODEL_60e3b8b5f3c549c9bf7eb1d2f3a9f8ee",
            "max": 170498071,
            "min": 0,
            "orientation": "horizontal",
            "style": "IPY_MODEL_3dbb18aca2f04fd0b7ac86d4e67e4173",
            "value": 170498071
          }
        },
        "bd3ed55ac2184fe9ad6311dc41983a34": {
          "model_module": "@jupyter-widgets/controls",
          "model_name": "HTMLModel",
          "model_module_version": "1.5.0",
          "state": {
            "_dom_classes": [],
            "_model_module": "@jupyter-widgets/controls",
            "_model_module_version": "1.5.0",
            "_model_name": "HTMLModel",
            "_view_count": null,
            "_view_module": "@jupyter-widgets/controls",
            "_view_module_version": "1.5.0",
            "_view_name": "HTMLView",
            "description": "",
            "description_tooltip": null,
            "layout": "IPY_MODEL_3768711d2c8e499bb25eb2eff64a2d77",
            "placeholder": "​",
            "style": "IPY_MODEL_0bba4851090449d2b55c4e1f462c9c6a",
            "value": " 170498071/170498071 [00:09&lt;00:00, 19071966.15it/s]"
          }
        },
        "bd3f1d55c92c42faac2dc839cb86daf2": {
          "model_module": "@jupyter-widgets/base",
          "model_name": "LayoutModel",
          "model_module_version": "1.2.0",
          "state": {
            "_model_module": "@jupyter-widgets/base",
            "_model_module_version": "1.2.0",
            "_model_name": "LayoutModel",
            "_view_count": null,
            "_view_module": "@jupyter-widgets/base",
            "_view_module_version": "1.2.0",
            "_view_name": "LayoutView",
            "align_content": null,
            "align_items": null,
            "align_self": null,
            "border": null,
            "bottom": null,
            "display": null,
            "flex": null,
            "flex_flow": null,
            "grid_area": null,
            "grid_auto_columns": null,
            "grid_auto_flow": null,
            "grid_auto_rows": null,
            "grid_column": null,
            "grid_gap": null,
            "grid_row": null,
            "grid_template_areas": null,
            "grid_template_columns": null,
            "grid_template_rows": null,
            "height": null,
            "justify_content": null,
            "justify_items": null,
            "left": null,
            "margin": null,
            "max_height": null,
            "max_width": null,
            "min_height": null,
            "min_width": null,
            "object_fit": null,
            "object_position": null,
            "order": null,
            "overflow": null,
            "overflow_x": null,
            "overflow_y": null,
            "padding": null,
            "right": null,
            "top": null,
            "visibility": null,
            "width": null
          }
        },
        "714a04abf5a7491d814d43937a3fe69f": {
          "model_module": "@jupyter-widgets/base",
          "model_name": "LayoutModel",
          "model_module_version": "1.2.0",
          "state": {
            "_model_module": "@jupyter-widgets/base",
            "_model_module_version": "1.2.0",
            "_model_name": "LayoutModel",
            "_view_count": null,
            "_view_module": "@jupyter-widgets/base",
            "_view_module_version": "1.2.0",
            "_view_name": "LayoutView",
            "align_content": null,
            "align_items": null,
            "align_self": null,
            "border": null,
            "bottom": null,
            "display": null,
            "flex": null,
            "flex_flow": null,
            "grid_area": null,
            "grid_auto_columns": null,
            "grid_auto_flow": null,
            "grid_auto_rows": null,
            "grid_column": null,
            "grid_gap": null,
            "grid_row": null,
            "grid_template_areas": null,
            "grid_template_columns": null,
            "grid_template_rows": null,
            "height": null,
            "justify_content": null,
            "justify_items": null,
            "left": null,
            "margin": null,
            "max_height": null,
            "max_width": null,
            "min_height": null,
            "min_width": null,
            "object_fit": null,
            "object_position": null,
            "order": null,
            "overflow": null,
            "overflow_x": null,
            "overflow_y": null,
            "padding": null,
            "right": null,
            "top": null,
            "visibility": null,
            "width": null
          }
        },
        "d2fdf6197143447381f034b7b85442a4": {
          "model_module": "@jupyter-widgets/controls",
          "model_name": "DescriptionStyleModel",
          "model_module_version": "1.5.0",
          "state": {
            "_model_module": "@jupyter-widgets/controls",
            "_model_module_version": "1.5.0",
            "_model_name": "DescriptionStyleModel",
            "_view_count": null,
            "_view_module": "@jupyter-widgets/base",
            "_view_module_version": "1.2.0",
            "_view_name": "StyleView",
            "description_width": ""
          }
        },
        "60e3b8b5f3c549c9bf7eb1d2f3a9f8ee": {
          "model_module": "@jupyter-widgets/base",
          "model_name": "LayoutModel",
          "model_module_version": "1.2.0",
          "state": {
            "_model_module": "@jupyter-widgets/base",
            "_model_module_version": "1.2.0",
            "_model_name": "LayoutModel",
            "_view_count": null,
            "_view_module": "@jupyter-widgets/base",
            "_view_module_version": "1.2.0",
            "_view_name": "LayoutView",
            "align_content": null,
            "align_items": null,
            "align_self": null,
            "border": null,
            "bottom": null,
            "display": null,
            "flex": null,
            "flex_flow": null,
            "grid_area": null,
            "grid_auto_columns": null,
            "grid_auto_flow": null,
            "grid_auto_rows": null,
            "grid_column": null,
            "grid_gap": null,
            "grid_row": null,
            "grid_template_areas": null,
            "grid_template_columns": null,
            "grid_template_rows": null,
            "height": null,
            "justify_content": null,
            "justify_items": null,
            "left": null,
            "margin": null,
            "max_height": null,
            "max_width": null,
            "min_height": null,
            "min_width": null,
            "object_fit": null,
            "object_position": null,
            "order": null,
            "overflow": null,
            "overflow_x": null,
            "overflow_y": null,
            "padding": null,
            "right": null,
            "top": null,
            "visibility": null,
            "width": null
          }
        },
        "3dbb18aca2f04fd0b7ac86d4e67e4173": {
          "model_module": "@jupyter-widgets/controls",
          "model_name": "ProgressStyleModel",
          "model_module_version": "1.5.0",
          "state": {
            "_model_module": "@jupyter-widgets/controls",
            "_model_module_version": "1.5.0",
            "_model_name": "ProgressStyleModel",
            "_view_count": null,
            "_view_module": "@jupyter-widgets/base",
            "_view_module_version": "1.2.0",
            "_view_name": "StyleView",
            "bar_color": null,
            "description_width": ""
          }
        },
        "3768711d2c8e499bb25eb2eff64a2d77": {
          "model_module": "@jupyter-widgets/base",
          "model_name": "LayoutModel",
          "model_module_version": "1.2.0",
          "state": {
            "_model_module": "@jupyter-widgets/base",
            "_model_module_version": "1.2.0",
            "_model_name": "LayoutModel",
            "_view_count": null,
            "_view_module": "@jupyter-widgets/base",
            "_view_module_version": "1.2.0",
            "_view_name": "LayoutView",
            "align_content": null,
            "align_items": null,
            "align_self": null,
            "border": null,
            "bottom": null,
            "display": null,
            "flex": null,
            "flex_flow": null,
            "grid_area": null,
            "grid_auto_columns": null,
            "grid_auto_flow": null,
            "grid_auto_rows": null,
            "grid_column": null,
            "grid_gap": null,
            "grid_row": null,
            "grid_template_areas": null,
            "grid_template_columns": null,
            "grid_template_rows": null,
            "height": null,
            "justify_content": null,
            "justify_items": null,
            "left": null,
            "margin": null,
            "max_height": null,
            "max_width": null,
            "min_height": null,
            "min_width": null,
            "object_fit": null,
            "object_position": null,
            "order": null,
            "overflow": null,
            "overflow_x": null,
            "overflow_y": null,
            "padding": null,
            "right": null,
            "top": null,
            "visibility": null,
            "width": null
          }
        },
        "0bba4851090449d2b55c4e1f462c9c6a": {
          "model_module": "@jupyter-widgets/controls",
          "model_name": "DescriptionStyleModel",
          "model_module_version": "1.5.0",
          "state": {
            "_model_module": "@jupyter-widgets/controls",
            "_model_module_version": "1.5.0",
            "_model_name": "DescriptionStyleModel",
            "_view_count": null,
            "_view_module": "@jupyter-widgets/base",
            "_view_module_version": "1.2.0",
            "_view_name": "StyleView",
            "description_width": ""
          }
        }
      }
    }
  },
  "cells": [
    {
      "cell_type": "markdown",
      "metadata": {
        "id": "view-in-github",
        "colab_type": "text"
      },
      "source": [
        "<a href=\"https://colab.research.google.com/github/ReinerJasin/ai-app-sys/blob/main/week7_12224827.ipynb\" target=\"_parent\"><img src=\"https://colab.research.google.com/assets/colab-badge.svg\" alt=\"Open In Colab\"/></a>"
      ]
    },
    {
      "cell_type": "markdown",
      "source": [
        "# Step 1-1"
      ],
      "metadata": {
        "id": "dL20UKSv6zL5"
      }
    },
    {
      "cell_type": "code",
      "execution_count": 1,
      "metadata": {
        "id": "vv2ESiBD5ut7"
      },
      "outputs": [],
      "source": [
        "import torchvision\n",
        "import torchvision.transforms as transforms\n",
        "\n",
        "from torchvision.datasets import CIFAR10\n",
        "from torch.utils.data import DataLoader\n",
        "\n",
        "import numpy as np\n",
        "import matplotlib.pyplot as plt"
      ]
    },
    {
      "cell_type": "code",
      "source": [
        "# Load training dataset into a single batch\n",
        "transform = transforms.Compose([transforms.ToTensor()])\n",
        "trainset = CIFAR10(root='./pt_data', train = True, download = True, transform = transform)\n",
        "trainloader = DataLoader(trainset, batch_size=len(trainset), shuffle=False)\n",
        "data = next(iter(trainloader))"
      ],
      "metadata": {
        "colab": {
          "base_uri": "https://localhost:8080/",
          "height": 85,
          "referenced_widgets": [
            "034e6c4e55f34c94b5c6c671d68d3e6d",
            "ca47171e0fe8443bad9d2ab28dbeacdd",
            "2d08f7eb47484ed182bd702001479b24",
            "bd3ed55ac2184fe9ad6311dc41983a34",
            "bd3f1d55c92c42faac2dc839cb86daf2",
            "714a04abf5a7491d814d43937a3fe69f",
            "d2fdf6197143447381f034b7b85442a4",
            "60e3b8b5f3c549c9bf7eb1d2f3a9f8ee",
            "3dbb18aca2f04fd0b7ac86d4e67e4173",
            "3768711d2c8e499bb25eb2eff64a2d77",
            "0bba4851090449d2b55c4e1f462c9c6a"
          ]
        },
        "id": "sDGUdGBF7KlD",
        "outputId": "863b7c96-07ef-4503-ff5c-14c6e8db0a6c"
      },
      "execution_count": 2,
      "outputs": [
        {
          "output_type": "stream",
          "name": "stdout",
          "text": [
            "Downloading https://www.cs.toronto.edu/~kriz/cifar-10-python.tar.gz to ./pt_data/cifar-10-python.tar.gz\n"
          ]
        },
        {
          "output_type": "display_data",
          "data": {
            "text/plain": [
              "  0%|          | 0/170498071 [00:00<?, ?it/s]"
            ],
            "application/vnd.jupyter.widget-view+json": {
              "version_major": 2,
              "version_minor": 0,
              "model_id": "034e6c4e55f34c94b5c6c671d68d3e6d"
            }
          },
          "metadata": {}
        },
        {
          "output_type": "stream",
          "name": "stdout",
          "text": [
            "Extracting ./pt_data/cifar-10-python.tar.gz to ./pt_data\n"
          ]
        }
      ]
    },
    {
      "cell_type": "code",
      "source": [
        "# Convert to numpy arrays of correct shape for plotting\n",
        "train_images = data[0].numpy()\n",
        "train_images = np.moveaxis(train_images, 1, 3)\n",
        "train_labels = data[1].numpy()"
      ],
      "metadata": {
        "id": "ULwv_5HR7O9j"
      },
      "execution_count": 3,
      "outputs": []
    },
    {
      "cell_type": "code",
      "source": [
        "print('Category: ', train_labels[100])\n",
        "plt.figure(figsize = (1, 1))\n",
        "plt.imshow(train_images[100])\n",
        "plt.show()"
      ],
      "metadata": {
        "colab": {
          "base_uri": "https://localhost:8080/",
          "height": 123
        },
        "id": "n2wSNvnV7REl",
        "outputId": "8fd7c572-5273-4fbd-ee60-076e10a0957f"
      },
      "execution_count": 4,
      "outputs": [
        {
          "output_type": "stream",
          "name": "stdout",
          "text": [
            "Category:  8\n"
          ]
        },
        {
          "output_type": "display_data",
          "data": {
            "text/plain": [
              "<Figure size 72x72 with 1 Axes>"
            ],
            "image/png": "[encoded data removed]"
          },
          "metadata": {
            "needs_background": "light"
          }
        }
      ]
    },
    {
      "cell_type": "markdown",
      "source": [
        "# Step 1-2"
      ],
      "metadata": {
        "id": "KO-_xAY764Fk"
      }
    },
    {
      "cell_type": "code",
      "source": [
        "!pip install requests"
      ],
      "metadata": {
        "colab": {
          "base_uri": "https://localhost:8080/"
        },
        "id": "9DP-Q3As65oW",
        "outputId": "b973cf47-183d-454d-e96f-ce75cdc5ed4e"
      },
      "execution_count": 5,
      "outputs": [
        {
          "output_type": "stream",
          "name": "stdout",
          "text": [
            "Looking in indexes: https://pypi.org/simple, https://us-python.pkg.dev/colab-wheels/public/simple/\n",
            "Requirement already satisfied: requests in /usr/local/lib/python3.7/dist-packages (2.23.0)\n",
            "Requirement already satisfied: idna<3,>=2.5 in /usr/local/lib/python3.7/dist-packages (from requests) (2.10)\n",
            "Requirement already satisfied: chardet<4,>=3.0.2 in /usr/local/lib/python3.7/dist-packages (from requests) (3.0.4)\n",
            "Requirement already satisfied: urllib3!=1.25.0,!=1.25.1,<1.26,>=1.21.1 in /usr/local/lib/python3.7/dist-packages (from requests) (1.24.3)\n",
            "Requirement already satisfied: certifi>=2017.4.17 in /usr/local/lib/python3.7/dist-packages (from requests) (2022.9.24)\n"
          ]
        }
      ]
    },
    {
      "cell_type": "code",
      "source": [
        "import requests\n",
        "# Save datagenerators as file to colab working directory\n",
        "# If you are using GitHub, make sure you get the \"Raw\" version of the code\n",
        "url = 'https://raw.githubusercontent.com/NVDLI/LDL/main/pt_framework/utilities.py'\n",
        "r = requests.get(url)\n",
        "\n",
        "# make sure your filename is the same as how you want to import\n",
        "with open('utilities.py', 'w') as f:\n",
        "  f.write(r.text)"
      ],
      "metadata": {
        "id": "8CzYMPIp7C3W"
      },
      "execution_count": 6,
      "outputs": []
    },
    {
      "cell_type": "markdown",
      "source": [
        "# Step 1-3"
      ],
      "metadata": {
        "id": "n33PT7vi7iGN"
      }
    },
    {
      "cell_type": "code",
      "source": [
        "import torch\n",
        "import torch.nn as nn\n",
        "\n",
        "import torchvision\n",
        "import torchvision.transforms as transforms\n",
        "\n",
        "from torchvision.datasets import CIFAR10\n",
        "from torch.utils.data import DataLoader\n",
        "\n",
        "import numpy as np\n",
        "\n",
        "from utilities import train_model"
      ],
      "metadata": {
        "id": "mo6qGnkp7m7h"
      },
      "execution_count": 7,
      "outputs": []
    },
    {
      "cell_type": "code",
      "source": [
        "device = torch.device(\"cuda:0\" if torch.cuda.is_available() else \"cpu\")\n",
        "EPOCHS = 128\n",
        "BATCH_SIZE = 32"
      ],
      "metadata": {
        "id": "cc47_YZf7_OP"
      },
      "execution_count": 8,
      "outputs": []
    },
    {
      "cell_type": "code",
      "source": [
        "# Load training dataset into a single batch to compute mean and stddev.\n",
        "transform = transforms.Compose([transforms.ToTensor()])\n",
        "trainset = CIFAR10(root='./pt_data', train = True, download = True, transform = transform)\n",
        "trainloader = DataLoader(trainset, batch_size=len(trainset), shuffle=False)\n",
        "data = next(iter(trainloader))\n",
        "mean = data[0].mean()\n",
        "stddev = data[0].std()"
      ],
      "metadata": {
        "colab": {
          "base_uri": "https://localhost:8080/"
        },
        "id": "391gjQxt8LKF",
        "outputId": "7c650413-0689-481f-993c-c52d81fb85d3"
      },
      "execution_count": 9,
      "outputs": [
        {
          "output_type": "stream",
          "name": "stdout",
          "text": [
            "Files already downloaded and verified\n"
          ]
        }
      ]
    },
    {
      "cell_type": "markdown",
      "source": [
        "# Step 1-4"
      ],
      "metadata": {
        "id": "tnLRB9u68hQ4"
      }
    },
    {
      "cell_type": "code",
      "source": [
        "# Load and standardize training and test dataset.\n",
        "transform = transforms.Compose([\n",
        "                                transforms.ToTensor(),\n",
        "                                transforms.Normalize(mean, stddev)\n",
        "                                ])\n",
        "\n",
        "trainset = CIFAR10(root='./pt_data', train = True, download = True, transform = transform)\n",
        "testset = CIFAR10(root='./pt_data', train = True, download = True, transform = transform)"
      ],
      "metadata": {
        "colab": {
          "base_uri": "https://localhost:8080/"
        },
        "id": "pqOJFMve8i4J",
        "outputId": "4d4a8082-9561-459a-a78c-3feaaf1229d3"
      },
      "execution_count": 10,
      "outputs": [
        {
          "output_type": "stream",
          "name": "stdout",
          "text": [
            "Files already downloaded and verified\n",
            "Files already downloaded and verified\n"
          ]
        }
      ]
    },
    {
      "cell_type": "code",
      "source": [
        "# Model with 2 convolutional and 1 fully-connected layer.\n",
        "model = nn.Sequential(\n",
        "    nn.Conv2d(3, 64, 5, stride = 2, padding = 2), # Output is 64x16x16\n",
        "    nn.ReLU(),\n",
        "    nn.Conv2d(64, 64, 3, stride = 2, padding = 1), # Output is 64x8x8\n",
        "    nn.ReLU(),\n",
        "    nn.Flatten(),\n",
        "    nn.Linear(64 * 8 * 8, 10)\n",
        ")"
      ],
      "metadata": {
        "id": "87Ra8j998-Rg"
      },
      "execution_count": 11,
      "outputs": []
    },
    {
      "cell_type": "markdown",
      "source": [
        "# Step 1-5"
      ],
      "metadata": {
        "id": "6eG7dUWo9q9H"
      }
    },
    {
      "cell_type": "code",
      "source": [
        "# Retrieve layers for custom weight initialization.\n",
        "layers = next(model.modules())\n",
        "conv_layer0 = layers[0]\n",
        "conv_layer1 = layers[2]\n",
        "output_layer = layers[5]\n",
        "\n",
        "# Kaiming (He) initialization.\n",
        "nn.init.kaiming_normal_(conv_layer0.weight)\n",
        "nn.init.constant_(conv_layer0.bias, 0.0)\n",
        "nn.init.kaiming_normal_(conv_layer1.weight)\n",
        "nn.init.constant_(conv_layer1.bias, 0.0)\n",
        "\n",
        "# Xavier (Glorot) initialization.\n",
        "nn.init.xavier_uniform_(output_layer.weight)\n",
        "nn.init.constant_(output_layer.bias, 0.0)\n",
        "\n",
        "# Loss function and optimizer\n",
        "optimizer = torch.optim.Adam(model.parameters())\n",
        "loss_function = nn.CrossEntropyLoss()\n",
        "\n",
        "# Train the model\n",
        "train_model(model, device, EPOCHS, BATCH_SIZE, trainset, testset, optimizer, loss_function, 'acc')"
      ],
      "metadata": {
        "colab": {
          "base_uri": "https://localhost:8080/"
        },
        "id": "QLMjQ4P79tJN",
        "outputId": "e05a6408-7801-487f-8d66-cba26c35fc92"
      },
      "execution_count": 12,
      "outputs": [
        {
          "output_type": "stream",
          "name": "stdout",
          "text": [
            "Epoch 1/128 loss: 1.4011 - acc: 0.5085 - val_loss: 1.0581 - val_acc: 0.6353\n",
            "Epoch 2/128 loss: 1.0616 - acc: 0.6279 - val_loss: 0.8796 - val_acc: 0.6960\n",
            "Epoch 3/128 loss: 0.9247 - acc: 0.6800 - val_loss: 0.7547 - val_acc: 0.7431\n",
            "Epoch 4/128 loss: 0.8170 - acc: 0.7145 - val_loss: 0.6778 - val_acc: 0.7663\n",
            "Epoch 5/128 loss: 0.7391 - acc: 0.7413 - val_loss: 0.5854 - val_acc: 0.7986\n",
            "Epoch 6/128 loss: 0.6675 - acc: 0.7663 - val_loss: 0.5353 - val_acc: 0.8170\n",
            "Epoch 7/128 loss: 0.6110 - acc: 0.7837 - val_loss: 0.4713 - val_acc: 0.8378\n",
            "Epoch 8/128 loss: 0.5558 - acc: 0.8041 - val_loss: 0.4359 - val_acc: 0.8525\n",
            "Epoch 9/128 loss: 0.5112 - acc: 0.8181 - val_loss: 0.3855 - val_acc: 0.8695\n",
            "Epoch 10/128 loss: 0.4655 - acc: 0.8347 - val_loss: 0.3637 - val_acc: 0.8737\n",
            "Epoch 11/128 loss: 0.4291 - acc: 0.8479 - val_loss: 0.3316 - val_acc: 0.8829\n",
            "Epoch 12/128 loss: 0.3949 - acc: 0.8579 - val_loss: 0.2906 - val_acc: 0.9003\n",
            "Epoch 13/128 loss: 0.3633 - acc: 0.8695 - val_loss: 0.2679 - val_acc: 0.9054\n",
            "Epoch 14/128 loss: 0.3356 - acc: 0.8792 - val_loss: 0.2863 - val_acc: 0.8968\n",
            "Epoch 15/128 loss: 0.3084 - acc: 0.8878 - val_loss: 0.2417 - val_acc: 0.9127\n",
            "Epoch 16/128 loss: 0.2879 - acc: 0.8973 - val_loss: 0.2164 - val_acc: 0.9218\n",
            "Epoch 17/128 loss: 0.2688 - acc: 0.9031 - val_loss: 0.2163 - val_acc: 0.9220\n",
            "Epoch 18/128 loss: 0.2517 - acc: 0.9081 - val_loss: 0.1975 - val_acc: 0.9296\n",
            "Epoch 19/128 loss: 0.2356 - acc: 0.9145 - val_loss: 0.1626 - val_acc: 0.9417\n",
            "Epoch 20/128 loss: 0.2225 - acc: 0.9182 - val_loss: 0.1616 - val_acc: 0.9413\n",
            "Epoch 21/128 loss: 0.2099 - acc: 0.9244 - val_loss: 0.1680 - val_acc: 0.9396\n",
            "Epoch 22/128 loss: 0.2038 - acc: 0.9266 - val_loss: 0.1578 - val_acc: 0.9415\n",
            "Epoch 23/128 loss: 0.1976 - acc: 0.9301 - val_loss: 0.1548 - val_acc: 0.9433\n",
            "Epoch 24/128 loss: 0.1909 - acc: 0.9289 - val_loss: 0.1415 - val_acc: 0.9486\n",
            "Epoch 25/128 loss: 0.1756 - acc: 0.9370 - val_loss: 0.1512 - val_acc: 0.9444\n",
            "Epoch 26/128 loss: 0.1825 - acc: 0.9345 - val_loss: 0.1482 - val_acc: 0.9462\n",
            "Epoch 27/128 loss: 0.1702 - acc: 0.9392 - val_loss: 0.1536 - val_acc: 0.9442\n",
            "Epoch 28/128 loss: 0.1658 - acc: 0.9415 - val_loss: 0.1303 - val_acc: 0.9520\n",
            "Epoch 29/128 loss: 0.1602 - acc: 0.9435 - val_loss: 0.1328 - val_acc: 0.9522\n",
            "Epoch 30/128 loss: 0.1617 - acc: 0.9431 - val_loss: 0.1597 - val_acc: 0.9440\n",
            "Epoch 31/128 loss: 0.1587 - acc: 0.9437 - val_loss: 0.1254 - val_acc: 0.9549\n",
            "Epoch 32/128 loss: 0.1519 - acc: 0.9465 - val_loss: 0.1264 - val_acc: 0.9550\n",
            "Epoch 33/128 loss: 0.1605 - acc: 0.9446 - val_loss: 0.1463 - val_acc: 0.9502\n",
            "Epoch 34/128 loss: 0.1468 - acc: 0.9496 - val_loss: 0.1376 - val_acc: 0.9532\n",
            "Epoch 35/128 loss: 0.1555 - acc: 0.9456 - val_loss: 0.1329 - val_acc: 0.9545\n",
            "Epoch 36/128 loss: 0.1420 - acc: 0.9522 - val_loss: 0.1150 - val_acc: 0.9599\n",
            "Epoch 37/128 loss: 0.1439 - acc: 0.9512 - val_loss: 0.1214 - val_acc: 0.9586\n",
            "Epoch 38/128 loss: 0.1489 - acc: 0.9502 - val_loss: 0.1098 - val_acc: 0.9624\n",
            "Epoch 39/128 loss: 0.1364 - acc: 0.9547 - val_loss: 0.1081 - val_acc: 0.9637\n",
            "Epoch 40/128 loss: 0.1377 - acc: 0.9540 - val_loss: 0.1072 - val_acc: 0.9641\n",
            "Epoch 41/128 loss: 0.1414 - acc: 0.9535 - val_loss: 0.1182 - val_acc: 0.9594\n",
            "Epoch 42/128 loss: 0.1430 - acc: 0.9530 - val_loss: 0.1022 - val_acc: 0.9655\n",
            "Epoch 43/128 loss: 0.1365 - acc: 0.9560 - val_loss: 0.1211 - val_acc: 0.9605\n",
            "Epoch 44/128 loss: 0.1421 - acc: 0.9544 - val_loss: 0.1101 - val_acc: 0.9639\n",
            "Epoch 45/128 loss: 0.1345 - acc: 0.9573 - val_loss: 0.1453 - val_acc: 0.9547\n",
            "Epoch 46/128 loss: 0.1391 - acc: 0.9564 - val_loss: 0.1119 - val_acc: 0.9627\n",
            "Epoch 47/128 loss: 0.1387 - acc: 0.9563 - val_loss: 0.1167 - val_acc: 0.9643\n",
            "Epoch 48/128 loss: 0.1405 - acc: 0.9574 - val_loss: 0.1220 - val_acc: 0.9626\n",
            "Epoch 49/128 loss: 0.1391 - acc: 0.9578 - val_loss: 0.0962 - val_acc: 0.9684\n",
            "Epoch 50/128 loss: 0.1298 - acc: 0.9599 - val_loss: 0.0740 - val_acc: 0.9750\n",
            "Epoch 51/128 loss: 0.1253 - acc: 0.9621 - val_loss: 0.0928 - val_acc: 0.9709\n",
            "Epoch 52/128 loss: 0.1367 - acc: 0.9597 - val_loss: 0.1380 - val_acc: 0.9591\n",
            "Epoch 53/128 loss: 0.1306 - acc: 0.9603 - val_loss: 0.0755 - val_acc: 0.9756\n",
            "Epoch 54/128 loss: 0.1414 - acc: 0.9587 - val_loss: 0.0937 - val_acc: 0.9704\n",
            "Epoch 55/128 loss: 0.1248 - acc: 0.9637 - val_loss: 0.1092 - val_acc: 0.9661\n",
            "Epoch 56/128 loss: 0.1304 - acc: 0.9615 - val_loss: 0.1152 - val_acc: 0.9671\n",
            "Epoch 57/128 loss: 0.1372 - acc: 0.9616 - val_loss: 0.1182 - val_acc: 0.9648\n",
            "Epoch 58/128 loss: 0.1328 - acc: 0.9618 - val_loss: 0.0777 - val_acc: 0.9754\n",
            "Epoch 59/128 loss: 0.1341 - acc: 0.9621 - val_loss: 0.0837 - val_acc: 0.9743\n",
            "Epoch 60/128 loss: 0.1346 - acc: 0.9633 - val_loss: 0.0999 - val_acc: 0.9707\n",
            "Epoch 61/128 loss: 0.1281 - acc: 0.9641 - val_loss: 0.0930 - val_acc: 0.9728\n",
            "Epoch 62/128 loss: 0.1387 - acc: 0.9618 - val_loss: 0.0996 - val_acc: 0.9712\n",
            "Epoch 63/128 loss: 0.1212 - acc: 0.9658 - val_loss: 0.1060 - val_acc: 0.9691\n",
            "Epoch 64/128 loss: 0.1260 - acc: 0.9644 - val_loss: 0.1103 - val_acc: 0.9681\n",
            "Epoch 65/128 loss: 0.1306 - acc: 0.9642 - val_loss: 0.0806 - val_acc: 0.9758\n",
            "Epoch 66/128 loss: 0.1309 - acc: 0.9643 - val_loss: 0.1233 - val_acc: 0.9671\n",
            "Epoch 67/128 loss: 0.1306 - acc: 0.9650 - val_loss: 0.1214 - val_acc: 0.9671\n",
            "Epoch 68/128 loss: 0.1218 - acc: 0.9664 - val_loss: 0.1267 - val_acc: 0.9665\n",
            "Epoch 69/128 loss: 0.1416 - acc: 0.9625 - val_loss: 0.1616 - val_acc: 0.9607\n",
            "Epoch 70/128 loss: 0.1351 - acc: 0.9647 - val_loss: 0.1139 - val_acc: 0.9698\n",
            "Epoch 71/128 loss: 0.1143 - acc: 0.9691 - val_loss: 0.1009 - val_acc: 0.9730\n",
            "Epoch 72/128 loss: 0.1265 - acc: 0.9676 - val_loss: 0.0806 - val_acc: 0.9767\n",
            "Epoch 73/128 loss: 0.1345 - acc: 0.9660 - val_loss: 0.1044 - val_acc: 0.9726\n",
            "Epoch 74/128 loss: 0.1317 - acc: 0.9669 - val_loss: 0.1085 - val_acc: 0.9725\n",
            "Epoch 75/128 loss: 0.1268 - acc: 0.9685 - val_loss: 0.1344 - val_acc: 0.9668\n",
            "Epoch 76/128 loss: 0.1323 - acc: 0.9663 - val_loss: 0.1015 - val_acc: 0.9739\n",
            "Epoch 77/128 loss: 0.1284 - acc: 0.9680 - val_loss: 0.1088 - val_acc: 0.9727\n",
            "Epoch 78/128 loss: 0.1297 - acc: 0.9680 - val_loss: 0.0975 - val_acc: 0.9747\n",
            "Epoch 79/128 loss: 0.1307 - acc: 0.9689 - val_loss: 0.0964 - val_acc: 0.9756\n",
            "Epoch 80/128 loss: 0.1344 - acc: 0.9688 - val_loss: 0.1116 - val_acc: 0.9725\n",
            "Epoch 81/128 loss: 0.1302 - acc: 0.9692 - val_loss: 0.1087 - val_acc: 0.9740\n",
            "Epoch 82/128 loss: 0.1321 - acc: 0.9692 - val_loss: 0.1189 - val_acc: 0.9705\n",
            "Epoch 83/128 loss: 0.1433 - acc: 0.9674 - val_loss: 0.1069 - val_acc: 0.9732\n",
            "Epoch 84/128 loss: 0.1264 - acc: 0.9701 - val_loss: 0.1491 - val_acc: 0.9670\n",
            "Epoch 85/128 loss: 0.1267 - acc: 0.9708 - val_loss: 0.1273 - val_acc: 0.9712\n",
            "Epoch 86/128 loss: 0.1385 - acc: 0.9684 - val_loss: 0.1162 - val_acc: 0.9731\n",
            "Epoch 87/128 loss: 0.1320 - acc: 0.9694 - val_loss: 0.0996 - val_acc: 0.9761\n",
            "Epoch 88/128 loss: 0.1376 - acc: 0.9686 - val_loss: 0.1256 - val_acc: 0.9714\n",
            "Epoch 89/128 loss: 0.1285 - acc: 0.9704 - val_loss: 0.1513 - val_acc: 0.9685\n",
            "Epoch 90/128 loss: 0.1322 - acc: 0.9708 - val_loss: 0.1187 - val_acc: 0.9723\n",
            "Epoch 91/128 loss: 0.1337 - acc: 0.9700 - val_loss: 0.1546 - val_acc: 0.9678\n",
            "Epoch 92/128 loss: 0.1320 - acc: 0.9712 - val_loss: 0.1348 - val_acc: 0.9708\n",
            "Epoch 93/128 loss: 0.1330 - acc: 0.9710 - val_loss: 0.1123 - val_acc: 0.9731\n",
            "Epoch 94/128 loss: 0.1339 - acc: 0.9713 - val_loss: 0.1017 - val_acc: 0.9756\n",
            "Epoch 95/128 loss: 0.1401 - acc: 0.9714 - val_loss: 0.0955 - val_acc: 0.9775\n",
            "Epoch 96/128 loss: 0.1370 - acc: 0.9717 - val_loss: 0.0941 - val_acc: 0.9782\n",
            "Epoch 97/128 loss: 0.1263 - acc: 0.9725 - val_loss: 0.0863 - val_acc: 0.9795\n",
            "Epoch 98/128 loss: 0.1312 - acc: 0.9725 - val_loss: 0.1123 - val_acc: 0.9749\n",
            "Epoch 99/128 loss: 0.1372 - acc: 0.9710 - val_loss: 0.0894 - val_acc: 0.9798\n",
            "Epoch 100/128 loss: 0.1282 - acc: 0.9731 - val_loss: 0.1145 - val_acc: 0.9753\n",
            "Epoch 101/128 loss: 0.1275 - acc: 0.9730 - val_loss: 0.0754 - val_acc: 0.9823\n",
            "Epoch 102/128 loss: 0.1299 - acc: 0.9729 - val_loss: 0.1005 - val_acc: 0.9773\n",
            "Epoch 103/128 loss: 0.1264 - acc: 0.9745 - val_loss: 0.1122 - val_acc: 0.9765\n",
            "Epoch 104/128 loss: 0.1339 - acc: 0.9736 - val_loss: 0.1032 - val_acc: 0.9781\n",
            "Epoch 105/128 loss: 0.1383 - acc: 0.9732 - val_loss: 0.1317 - val_acc: 0.9730\n",
            "Epoch 106/128 loss: 0.1392 - acc: 0.9721 - val_loss: 0.1068 - val_acc: 0.9772\n",
            "Epoch 107/128 loss: 0.1372 - acc: 0.9741 - val_loss: 0.1143 - val_acc: 0.9756\n",
            "Epoch 108/128 loss: 0.1280 - acc: 0.9754 - val_loss: 0.1312 - val_acc: 0.9733\n",
            "Epoch 109/128 loss: 0.1560 - acc: 0.9710 - val_loss: 0.1448 - val_acc: 0.9741\n",
            "Epoch 110/128 loss: 0.1221 - acc: 0.9764 - val_loss: 0.1136 - val_acc: 0.9773\n",
            "Epoch 111/128 loss: 0.1295 - acc: 0.9750 - val_loss: 0.1318 - val_acc: 0.9738\n",
            "Epoch 112/128 loss: 0.1484 - acc: 0.9733 - val_loss: 0.1170 - val_acc: 0.9778\n",
            "Epoch 113/128 loss: 0.1415 - acc: 0.9748 - val_loss: 0.1071 - val_acc: 0.9786\n",
            "Epoch 114/128 loss: 0.1308 - acc: 0.9758 - val_loss: 0.1017 - val_acc: 0.9800\n",
            "Epoch 115/128 loss: 0.1369 - acc: 0.9745 - val_loss: 0.0863 - val_acc: 0.9819\n",
            "Epoch 116/128 loss: 0.1384 - acc: 0.9756 - val_loss: 0.1359 - val_acc: 0.9752\n",
            "Epoch 117/128 loss: 0.1449 - acc: 0.9738 - val_loss: 0.1271 - val_acc: 0.9768\n",
            "Epoch 118/128 loss: 0.1370 - acc: 0.9756 - val_loss: 0.0904 - val_acc: 0.9820\n",
            "Epoch 119/128 loss: 0.1389 - acc: 0.9752 - val_loss: 0.0835 - val_acc: 0.9825\n",
            "Epoch 120/128 loss: 0.1487 - acc: 0.9735 - val_loss: 0.1469 - val_acc: 0.9743\n",
            "Epoch 121/128 loss: 0.1415 - acc: 0.9755 - val_loss: 0.0994 - val_acc: 0.9805\n",
            "Epoch 122/128 loss: 0.1411 - acc: 0.9743 - val_loss: 0.1000 - val_acc: 0.9821\n",
            "Epoch 123/128 loss: 0.1255 - acc: 0.9768 - val_loss: 0.1025 - val_acc: 0.9806\n",
            "Epoch 124/128 loss: 0.1363 - acc: 0.9756 - val_loss: 0.0759 - val_acc: 0.9842\n",
            "Epoch 125/128 loss: 0.1388 - acc: 0.9761 - val_loss: 0.1099 - val_acc: 0.9802\n",
            "Epoch 126/128 loss: 0.1336 - acc: 0.9780 - val_loss: 0.1903 - val_acc: 0.9696\n",
            "Epoch 127/128 loss: 0.1441 - acc: 0.9755 - val_loss: 0.1520 - val_acc: 0.9751\n",
            "Epoch 128/128 loss: 0.1540 - acc: 0.9759 - val_loss: 0.1146 - val_acc: 0.9802\n"
          ]
        },
        {
          "output_type": "execute_result",
          "data": {
            "text/plain": [
              "[0.9759077095329495, 0.9802463211772233]"
            ]
          },
          "metadata": {},
          "execution_count": 12
        }
      ]
    }
  ]
}